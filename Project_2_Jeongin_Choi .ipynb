{
 "cells": [
  {
   "cell_type": "markdown",
   "id": "b1147ff0",
   "metadata": {},
   "source": [
    "# Project 2D \n",
    "### Name: Jeongin Choi \n",
    "### Title: Unique structure of fimbriae of Rothia dentocariosa may be related to adhesion to SARS-CoV-2 adhesion. \n",
    "### BIMM143 "
   ]
  },
  {
   "cell_type": "markdown",
   "id": "b25045d2",
   "metadata": {},
   "source": [
    "# Introduction "
   ]
  },
  {
   "cell_type": "markdown",
   "id": "b676a099",
   "metadata": {},
   "source": [
    "##### specific, measurable, and clear scientific question\n"
   ]
  },
  {
   "cell_type": "markdown",
   "id": "92af14a8",
   "metadata": {},
   "source": [
    " scientific question: Previous study shows a close physical connection between SARS-CoV-2 and Rothia dentocariosa in Covid patients’ rooms. Throughout this project I’d like to answer a scientific question: what unique components and sequences does fimbriae of Rothia dentocariosa reveal compared to other closely related Rothia bacteria in order to be detected and be present near by SARS-CoV-2?"
   ]
  },
  {
   "cell_type": "markdown",
   "id": "8d7bb3d0",
   "metadata": {},
   "source": [
    "##### background on the protein/gene/species of interest and where the data is sourced from\n"
   ]
  },
  {
   "cell_type": "markdown",
   "id": "afc8674e",
   "metadata": {},
   "source": [
    "Background: Rothia aeria, Rothia dentocariosa, and Rothia mucilaginosa are associated with respiratory infection and are also located in the mouth as well as the lungs. The family of those bacteria are Mocrococcaceae and those three bacteria are closely located within the Micrococcaceae family phylogenetic tree. According to the research paper entitled “SARS-CoV-2 detection status associates with bacterial community composition in patients and the hospital environment,” a high percentage of Rothia dentocariosa are detected in the SARS-CoV-2 patients’ room. \n",
    " \n",
    "Interestingly enough, Rothia dentocariosa appears to have a different type of surface protein than other two Rothia bacteria. Fimbriae is one of the essential features that bacteria have because it helps them to adhere to the surface and even to the other organisms. Through this project, I want to compare two different types of fimbriae, specifically type 1 and type 2, and see any differences and unique regions in Rothia dentocariosa compared to other two Rothia bacteria. Rothia dentocariosa has type2 fimbriae and Rothia mucilaginosa and Rothia aeria have type1 fimbriae. \n",
    " \n",
    "I'll perform pairwise sequence alignment to confirm how similar and different between two types of fimbriae are. Next, I'll do structural analysis to check any unique, different or same features between two types. Lastly, I'll run sequence logos to visualize conserved and non-conserved protein sequences as well as matched and unmatched areas. \n"
   ]
  },
  {
   "cell_type": "markdown",
   "id": "33746d07",
   "metadata": {},
   "source": [
    "Source: \n",
    "    \n",
    "* Rothia bacteria sequence source linke\n",
    "\n",
    "Rothia aeria:  \n",
    "https://www.ncbi.nlm.nih.gov/nuccore/AP017895\n",
    "\n",
    "Rothia mucilaginosa: \n",
    "https://www.ncbi.nlm.nih.gov/nuccore/AP014938 \n",
    "\n",
    "Rothia dentocariosa: \n",
    "https://www.ncbi.nlm.nih.gov/nuccore/CP054018.1 \n",
    "\n",
    "* type1 and type2 fimbriae pdb and fasta file\n",
    "\n",
    "https://www.rcsb.org/search?request=%7B%22query%22%3A%7B%22type%22%3A%22group%22%2C%22nodes%22%3A%5B%7B%22type%22%3A%22group%22%2C%22nodes%22%3A%5B%7B%22type%22%3A%22group%22%2C%22nodes%22%3A%5B%7B%22type%22%3A%22terminal%22%2C%22service%22%3A%22full_text%22%2C%22parameters%22%3A%7B%22value%22%3A%22type1%20fimbriae%22%7D%7D%5D%2C%22logical_operator%22%3A%22and%22%7D%5D%2C%22logical_operator%22%3A%22and%22%2C%22label%22%3A%22full_text%22%7D%5D%2C%22logical_operator%22%3A%22and%22%7D%2C%22return_type%22%3A%22entry%22%2C%22request_options%22%3A%7B%22paginate%22%3A%7B%22start%22%3A0%2C%22rows%22%3A25%7D%2C%22scoring_strategy%22%3A%22combined%22%2C%22sort%22%3A%5B%7B%22sort_by%22%3A%22score%22%2C%22direction%22%3A%22desc%22%7D%5D%7D%2C%22request_info%22%3A%7B%22query_id%22%3A%2265ee21cd93486930c39966d1f9487d20%22%7D%7D\n",
    "\n",
    "type 1 fimbriae pdb and fasta file: \n",
    "https://www.rcsb.org/structure/5GQP \n",
    "\n",
    "type 2 fimbriae pdb and fasta file: \n",
    "https://www.rcsb.org/structure/3QDH \n",
    "\n",
    "\n",
    "-\n"
   ]
  },
  {
   "cell_type": "markdown",
   "id": "109bc6ea",
   "metadata": {},
   "source": [
    "##### clear, specific, and measurable scientific hypothesis that is in the form of an if-then statement"
   ]
  },
  {
   "cell_type": "markdown",
   "id": "a06bca0a",
   "metadata": {},
   "source": [
    "scientific hypothesis: If Rothia dentocariosa appears to be frequently and highly present near by SARS-CoV-2, then there will be distinct sequential regions as well as structural uniqueness on fimbriae compared to other closely related respiratory causing bacteria. It is important to check the structure of fimbriae because fimbriae stick to other organisms as well as non organisms. Any differences on fimbriae of Rothia dentocariosa may be related to the SARS-CoV-2. "
   ]
  },
  {
   "cell_type": "markdown",
   "id": "06c4b98c",
   "metadata": {},
   "source": [
    "##### description of what analyses were done and how the data was downloaded for the project\n"
   ]
  },
  {
   "cell_type": "markdown",
   "id": "8efe602c",
   "metadata": {},
   "source": [
    "* method#1 discription: For method 1, I did a pairwise sequence alignment. Rothia aeria, Rothia dentocariosa, and Rothia mucilaginosa are related to respiratory infection and are also located in the mouth as well as the lungs. The family of those bacteria are Mocrococcaceae and those three bacteria are closely located within the Micrococcaceae family phylogenetic tree. According to the research paper entitled “SARS-CoV-2 detection status associates with bacterial community composition in patients and the hospital environment,” a high percentage of Rothia dentocariosa are detected in the SARS-CoV-2 patients’ room. I want to compare those three Rothia bacterial fimbriae sequences by the pairwise sequence alignment to find any differences and unique regions in Rothia dentocariosa, compared to other two Rothia bacteria. Rothia dentocariosa has type 2 fimbriae and Rothia mucilaginosa and aeria have type 1 fimbriae. I did pairwise sequence alignment with type 1 and 2 fimbriae DNA sequences. Also, I’ll compare and contrast any unique area and conserved regions within the sequence which may have a relationship with SARS-CoV-2. \n",
    "* For method #1, type 1 and 2 DNA sequences in fasta file were downloaded from RCSB PDB website. \n",
    "\n",
    "\n",
    "* Method#2: For method 2, I chose the structural analysis in order to compare the two types of fimbriae of Rothia bacteria. Fimbriae is a long and thin protein that is attached to the outer membrane of the bacteria. Fimbriae is one of the essential features that bacteria have because it helps them to adhere to the surface and even to the other organisms. Since Rothia dentocariosa appears to be with the SARS-CoV-2 more frequently, I’ll compare the shape of those two types of fimbriae and find any structural differences.\n",
    "* For method #2, type 1 and 2 protein structure in pdb file were downloaded from RCSB PDB website. \n",
    "\n",
    "\n",
    "* Analysis method description: For the analysis method, I chose to do 3D protein measurements and sequence logos. 3D protein measurements will enable us to visualize any special regions on the bacterial fimbriae. Sequence logos will help us to identify the conserved and non conserved sequence areas. This will guide us to find the distinctive region that could possibly be a key element that links to the SARS-CoV-2 and Rothia dentocariosa. Output of pairwise sequence alignment from method 1 was used to construct sequence logos. "
   ]
  },
  {
   "cell_type": "markdown",
   "id": "b4d02f6a",
   "metadata": {},
   "source": [
    "# Loading in Packages"
   ]
  },
  {
   "cell_type": "markdown",
   "id": "18bdfba4",
   "metadata": {},
   "source": [
    "##### definition of each of the packages loaded \n",
    "\n",
    "<Method#1> \n",
    "* AlignIO: Used for the sequence alignment. It enables reading the sequence file and align sequences.\n",
    "\n",
    "*  Bio: Bio is a package that’s used for DNA or RNA or amino acid sequence analysis. \n",
    "\n",
    "* Bio.seq: it helps to represent DNA or RNA or amino acid sequence.\n",
    "\n",
    "* Bio.pairwise2: It’s used for pairwise sequence alignment. \n",
    "\n",
    "* pyMSA: Used for representing multiple sequence alignment. It also shows the alignment score. \n",
    "\n",
    "\n",
    "<Method#2> \n",
    "* py3Dmol: It enables us to view 3D structure of protein from PDB website. It enables 3D structural presentation without downloading the pdb file. It allows viewing the desired protein structure with PDB protein identification code. \n",
    "\n",
    "\n",
    "<Method#3>\n",
    "* logomaker: It’s a package for sequence logos. It allows visualization of DNA, RNA, or amino acid sequence logos.\n",
    "\n",
    "Source: \n",
    "- https://biopython.org/wiki/AlignIO\n",
    "- https://www.reddit.com/r/bioinformatics/comments/owdrna/combining_multiple_fasta_files_into_one_file_for/\n",
    "- https://pypi.org/project/py3Dmol/\n",
    "- https://logomaker.readthedocs.io/en/latest/\n",
    "- https://pypi.org/project/pyMSA/"
   ]
  },
  {
   "cell_type": "markdown",
   "id": "baf32916",
   "metadata": {},
   "source": [
    "## Method #1: Pairwise sequence alignment with sequence of fimbriae of Rothia dentocariosa, Rothia mucilaginosa, and Rothia aeria. "
   ]
  },
  {
   "cell_type": "markdown",
   "id": "3b28043c",
   "metadata": {},
   "source": [
    "method#1 discription: For method 1, I did a pairwise sequence alignment. Rothia aeria, Rothia dentocariosa, and Rothia mucilaginosa are related to respiratory infection and are also located in the mouth as well as the lungs. The family of those bacteria are Mocrococcaceae and those three bacteria are closely located within the Micrococcaceae family phylogenetic tree. According to the research paper entitled “SARS-CoV-2 detection status associates with bacterial community composition in patients and the hospital environment,” a high percentage of Rothia dentocariosa are detected in the SARS-CoV-2 patients’ room. I want to compare those three Rothia bacterial fimbriae sequences by the pairwise sequence alignment to find any differences and unique regions in Rothia dentocariosa, compared to other two Rothia bacteria. Rothia dentocariosa has type 2 fimbriae and Rothia mucilaginosa and aeria have type 1 fimbriae. I did pairwise sequence alignment with type 1 and 2 fimbriae DNA sequences. Also, I’ll compare and contrast any unique area and conserved regions within the sequence which may have a relationship with SARS-CoV-2.\n",
    "For method #1, type 1 and 2 DNA sequences in fasta file were downloaded from RCSB PDB website.\n"
   ]
  },
  {
   "cell_type": "code",
   "execution_count": 2,
   "id": "60560714",
   "metadata": {},
   "outputs": [
    {
     "name": "stdout",
     "output_type": "stream",
     "text": [
      "Alignment with 1 rows and 207 columns\n",
      "ATFEIVNRCSYTVWAAASKGDAALDAGGRQLNSGESWTINVEPG...PTA 5GQP_1|Chain\n",
      "Alignment with 1 rows and 290 columns\n",
      "NEAISVEKSIQEQKLNGYGVGSLIKFPVSSTAPTLDAKSFYKYF...TKQ 3QDH_1|Chain\n"
     ]
    }
   ],
   "source": [
    "# import AlignIO\n",
    "from Bio import AlignIO\n",
    "\n",
    "# checking for the type1 and 2 DNA sequence \n",
    "type1 = AlignIO.read(open(\"type1.fasta\"), \"fasta\")\n",
    "\n",
    "type2 = AlignIO.read(open(\"type2.fasta\"), \"fasta\") \n",
    "\n",
    "print(type1)\n",
    "print(type2)\n",
    "\n",
    "# type 1 and 2 fasta file link: \n",
    "# type 1 = https://www.rcsb.org/structure/5GQP\n",
    "# type 2 = https://www.rcsb.org/structure/3QDH"
   ]
  },
  {
   "cell_type": "code",
   "execution_count": 3,
   "id": "87676a6e",
   "metadata": {},
   "outputs": [
    {
     "name": "stdout",
     "output_type": "stream",
     "text": [
      "ATF-E-IVNRCSYTVWAAA--S----KGDAALDA-G-GRQLNS-GESWT-INVE--PG---TNGGKIWAR-T-DC----Y--F---D--DSG-----------S--GICKTG--DC---------G----------GLLRCKRFGRP----PTTL-----AE-FSLNQYGKDY--------ID------IS----------------NIKGF--NVPMDFSPT----TRGC-R-GVRCAAD--I--V-----GQCPAKL-KAPG--G-------------G-CN--D------AC----TVFQTSEYCC-TT---G----KCGPTEY---S-------RFF---K----RLC--------PDAFS-YVLDKPTT-----VTCP-----GSS-----NYRVTFCP---TA--\n",
      "    | |    |  |      |    |    |   | |      | |   |     |    |      |  | |     |  |   |  |             |  |   |   |          |          | |  |   |     |        |  |   | ||          |       ||                |      | |    ||    |    | |     |  |  |     ||      || |  |             | |   |      |     |   |      ||   |    | |       |       |     |    | |        | |   |||  |       || |     |       |  ||      |   \n",
      "---NEAI----S--V----EKSIQEQK----L--NGYG-----VG-S--LI---KFP-VSST------A-PTLD-AKSFYKYFQLRDTLD--DRLTAVTATEVSLEG---T-TLD-PTDYKVDTKGQTVTVTFTAEG-L--K---R-IKAAP---GKKVSA-VF---Q-GK--VTEARNGAI-TNRAQVISDTVYAEQPPTPEEPPAN----PEN-P----PTSNEVT---SRWG-----DLLIKKVDNHQQGQ-----DKA-GLQGAQFQLYKAKNAYAGTC-TKDKEGDPIA-INGET---T-----LTTDAQGAINVK-G----LFISDSIDGANR--DNQKDATAR-CYVLVETKAP-A--GYVL--P--AGDGAVT-PVKIEVG--AVTTDN--VT---IENT-KQ\n",
      "  Score=86\n",
      "\n",
      "ATFE-IVNRCSYTVWAAA--S----KGDAALDA-G-GRQLNS-GESWT-INVE--PG---TNGGKIWAR-T-DC----Y--F---D--DSG-----------S--GICKTG--DC---------G----------GLLRCKRFGRP----PTTL-----AE-FSLNQYGKDY--------ID------IS----------------NIKGF--NVPMDFSPT----TRGC-R-GVRCAAD--I--V-----GQCPAKL-KAPG--G-------------G-CN--D------AC----TVFQTSEYCC-TT---G----KCGPTEY---S-------RFF---K----RLC--------PDAFS-YVLDKPTT-----VTCP-----GSS-----NYRVTFCP---TA--\n",
      "  .| |    |  |      |    |    |   | |      | |   |     |    |      |  | |     |  |   |  |             |  |   |   |          |          | |  |   |     |        |  |   | ||          |       ||                |      | |    ||    |    | |     |  |  |     ||      || |  |             | |   |      |     |   |      ||   |    | |       |       |     |    | |        | |   |||  |       || |     |       |  ||      |   \n",
      "--NEAI----S--V----EKSIQEQK----L--NGYG-----VG-S--LI---KFP-VSST------A-PTLD-AKSFYKYFQLRDTLD--DRLTAVTATEVSLEG---T-TLD-PTDYKVDTKGQTVTVTFTAEG-L--K---R-IKAAP---GKKVSA-VF---Q-GK--VTEARNGAI-TNRAQVISDTVYAEQPPTPEEPPAN----PEN-P----PTSNEVT---SRWG-----DLLIKKVDNHQQGQ-----DKA-GLQGAQFQLYKAKNAYAGTC-TKDKEGDPIA-INGET---T-----LTTDAQGAINVK-G----LFISDSIDGANR--DNQKDATAR-CYVLVETKAP-A--GYVL--P--AGDGAVT-PVKIEVG--AVTTDN--VT---IENT-KQ\n",
      "  Score=86\n",
      "\n",
      "ATFE-IVNRCSYTVWAAA--S----KGDAALDA-G-GRQLNS-GESWT-INVE--PG---TNGGKIWAR-T-DC----Y--F---D--DSG-----------S--GICKTG--DC---------G----------GLLRCKRFGRP----PTTL-----AE-FSLNQYGKDY--------ID------IS----------------NIKGF--NVPMDFSPT----TRGC-R-GVRCAAD--I--V-----GQCPAKL-KAPG--G-------------G-CN--D------AC----TVFQTSEYCC-TT---G----KCGPTEY---S-------RFF---K----RLC--------PDAFS-YVLDKPTT-----VTCP-----GSS-----NYRVTFCP---TA--\n",
      " . | |    |  |      |    |    |   | |      | |   |     |    |      |  | |     |  |   |  |             |  |   |   |          |          | |  |   |     |        |  |   | ||          |       ||                |      | |    ||    |    | |     |  |  |     ||      || |  |             | |   |      |     |   |      ||   |    | |       |       |     |    | |        | |   |||  |       || |     |       |  ||      |   \n",
      "-N-EAI----S--V----EKSIQEQK----L--NGYG-----VG-S--LI---KFP-VSST------A-PTLD-AKSFYKYFQLRDTLD--DRLTAVTATEVSLEG---T-TLD-PTDYKVDTKGQTVTVTFTAEG-L--K---R-IKAAP---GKKVSA-VF---Q-GK--VTEARNGAI-TNRAQVISDTVYAEQPPTPEEPPAN----PEN-P----PTSNEVT---SRWG-----DLLIKKVDNHQQGQ-----DKA-GLQGAQFQLYKAKNAYAGTC-TKDKEGDPIA-INGET---T-----LTTDAQGAINVK-G----LFISDSIDGANR--DNQKDATAR-CYVLVETKAP-A--GYVL--P--AGDGAVT-PVKIEVG--AVTTDN--VT---IENT-KQ\n",
      "  Score=86\n",
      "\n",
      "ATFE-IVNRCSYTVWAAA--S----KGDAALDA-G-GRQLNS-GESWT-INVE--PG---TNGGKIWAR-T-DC----Y--F---D--DSG-----------S--GICKTG--DC---------G----------GLLRCKRFGRP----PTTL-----AE-FSLNQYGKDY--------ID------IS----------------NIKGF--NVPMDFSPT----TRGC-R-GVRCAAD--I--V-----GQCPAKL-KAPG--G-------------G-CN--D------AC----TVFQTSEYCC-TT---G----KCGPTEY---S-------RFF---K----RLC--------PDAFS-YVLDKPTT-----VTCP-----GSS-----NYRVTFCP---TA--\n",
      ".  | |    |  |      |    |    |   | |      | |   |     |    |      |  | |     |  |   |  |             |  |   |   |          |          | |  |   |     |        |  |   | ||          |       ||                |      | |    ||    |    | |     |  |  |     ||      || |  |             | |   |      |     |   |      ||   |    | |       |       |     |    | |        | |   |||  |       || |     |       |  ||      |   \n",
      "N--EAI----S--V----EKSIQEQK----L--NGYG-----VG-S--LI---KFP-VSST------A-PTLD-AKSFYKYFQLRDTLD--DRLTAVTATEVSLEG---T-TLD-PTDYKVDTKGQTVTVTFTAEG-L--K---R-IKAAP---GKKVSA-VF---Q-GK--VTEARNGAI-TNRAQVISDTVYAEQPPTPEEPPAN----PEN-P----PTSNEVT---SRWG-----DLLIKKVDNHQQGQ-----DKA-GLQGAQFQLYKAKNAYAGTC-TKDKEGDPIA-INGET---T-----LTTDAQGAINVK-G----LFISDSIDGANR--DNQKDATAR-CYVLVETKAP-A--GYVL--P--AGDGAVT-PVKIEVG--AVTTDN--VT---IENT-KQ\n",
      "  Score=86\n",
      "\n",
      "--ATFEIVNRCSYTVWAAA--S----KGDAALDA-G-GRQLNS-GESWT-INVE--PG---TNGGKIWAR-T-DC----Y--F---D--DSG-----------S--GICKTG--DC---------G----------GLLRCKRFGRP----PTTL-----AE-FSLNQYGKDY--------ID------IS----------------NIKGF--NVPMDFSPT----TRGC-R-GVRCAAD--I--V-----GQCPAKL-KAPG--G-------------G-CN--D------AC----TVFQTSEYCC-TT---G----KCGPTEY---S-------RFF---K----RLC--------PDAFS-YVLDKPTT-----VTCP-----GSS-----NYRVTFCP---TA--\n",
      "  |   |    |  |      |    |    |   | |      | |   |     |    |      |  | |     |  |   |  |             |  |   |   |          |          | |  |   |     |        |  |   | ||          |       ||                |      | |    ||    |    | |     |  |  |     ||      || |  |             | |   |      |     |   |      ||   |    | |       |       |     |    | |        | |   |||  |       || |     |       |  ||      |   \n",
      "NEA---I----S--V----EKSIQEQK----L--NGYG-----VG-S--LI---KFP-VSST------A-PTLD-AKSFYKYFQLRDTLD--DRLTAVTATEVSLEG---T-TLD-PTDYKVDTKGQTVTVTFTAEG-L--K---R-IKAAP---GKKVSA-VF---Q-GK--VTEARNGAI-TNRAQVISDTVYAEQPPTPEEPPAN----PEN-P----PTSNEVT---SRWG-----DLLIKKVDNHQQGQ-----DKA-GLQGAQFQLYKAKNAYAGTC-TKDKEGDPIA-INGET---T-----LTTDAQGAINVK-G----LFISDSIDGANR--DNQKDATAR-CYVLVETKAP-A--GYVL--P--AGDGAVT-PVKIEVG--AVTTDN--VT---IENT-KQ\n",
      "  Score=86\n",
      "\n"
     ]
    }
   ],
   "source": [
    "# packages for pairwise sequence alignment \n",
    "from Bio import pairwise2\n",
    "from Bio.Seq import Seq\n",
    "from Bio.pairwise2 import format_alignment\n",
    "  \n",
    "# define DNA sequence of type 1 and 2 (hard coding here). type_1 and typ2_2 are Global variables. Global variable is variable that's set up outside of the function. \n",
    "type1_seq = Seq(\"ATFEIVNRCSYTVWAAASKGDAALDAGGRQLNSGESWTINVEPGTNGGKIWARTDCYFDDSGSGICKTGDCGGLLRCKRFGRPPTTLAEFSLNQYGKDYIDISNIKGFNVPMDFSPTTRGCRGVRCAADIVGQCPAKLKAPGGGCNDACTVFQTSEYCCTTGKCGPTEYSRFFKRLCPDAFSYVLDKPTTVTCPGSSNYRVTFCPTA\")\n",
    "type2_seq = Seq(\"NEAISVEKSIQEQKLNGYGVGSLIKFPVSSTAPTLDAKSFYKYFQLRDTLDDRLTAVTATEVSLEGTTLDPTDYKVDTKGQTVTVTFTAEGLKRIKAAPGKKVSAVFQGKVTEARNGAITNRAQVISDTVYAEQPPTPEEPPANPENPPTSNEVTSRWGDLLIKKVDNHQQGQDKAGLQGAQFQLYKAKNAYAGTCTKDKEGDPIAINGETTLTTDAQGAINVKGLFISDSIDGANRDNQKDATARCYVLVETKAPAGYVLPAGDGAVTPVKIEVGAVTTDNVTIENTKQ\")\n",
    "\n",
    "# Finding similarities and pair the sequences\n",
    "alignments = pairwise2.align.globalxx(type1_seq, type2_seq)\n",
    "\n",
    "for alignment in alignments:\n",
    "    print(format_alignment(*alignment))\n",
    "\n",
    "    \n",
    "# source: https://www.geeksforgeeks.org/biopython-pairwise-alignment/"
   ]
  },
  {
   "cell_type": "markdown",
   "id": "7f579773",
   "metadata": {},
   "source": [
    "### Another way to visualize the pairwise sequence alignment. "
   ]
  },
  {
   "cell_type": "code",
   "execution_count": 4,
   "id": "ee5ffa79",
   "metadata": {},
   "outputs": [
    {
     "name": "stdout",
     "output_type": "stream",
     "text": [
      "Requirement already satisfied: pyMSA in /Users/choejeong-in/opt/anaconda3/lib/python3.9/site-packages (0.8.1)\n",
      "Note: you may need to restart the kernel to use updated packages.\n"
     ]
    }
   ],
   "source": [
    "pip install pyMSA"
   ]
  },
  {
   "cell_type": "code",
   "execution_count": 5,
   "id": "b87a3fa5",
   "metadata": {},
   "outputs": [
    {
     "name": "stdout",
     "output_type": "stream",
     "text": [
      "type1\t--\u001b[44m\u001b[97mA\u001b[0mTFE\u001b[44m\u001b[97mI\u001b[0mVNRC\u001b[44m\u001b[97mS\u001b[0mYT\u001b[44m\u001b[97mV\u001b[0mWAAA--\u001b[44m\u001b[97mS\u001b[0m----\u001b[44m\u001b[97mK\u001b[0mGDAA\u001b[44m\u001b[97mL\u001b[0mDA-\u001b[44m\u001b[97mG\u001b[0m-\u001b[44m\u001b[97mG\u001b[0mRQLNS-\u001b[44m\u001b[97mG\u001b[0mE\u001b[44m\u001b[97mS\u001b[0mWT-\u001b[44m\u001b[97mI\u001b[0mNVE--\u001b[44m\u001b[97mP\u001b[0mG---\u001b[44m\u001b[97mT\u001b[0mNGGKIW\u001b[44m\u001b[97mA\u001b[0mR-\u001b[44m\u001b[97mT\u001b[0m-\u001b[44m\u001b[97mD\u001b[0mC----\u001b[44m\u001b[97mY\u001b[0m--\u001b[44m\u001b[97mF\u001b[0m---\u001b[44m\u001b[97mD\u001b[0m--\u001b[44m\u001b[97mD\u001b[0mSG--------\n",
      "type2\tNE\u001b[44m\u001b[97mA\u001b[0m---\u001b[44m\u001b[97mI\u001b[0m----\u001b[44m\u001b[97mS\u001b[0m--\u001b[44m\u001b[97mV\u001b[0m----EK\u001b[44m\u001b[97mS\u001b[0mIQEQ\u001b[44m\u001b[97mK\u001b[0m----\u001b[44m\u001b[97mL\u001b[0m--N\u001b[44m\u001b[97mG\u001b[0mY\u001b[44m\u001b[97mG\u001b[0m-----V\u001b[44m\u001b[97mG\u001b[0m-\u001b[44m\u001b[97mS\u001b[0m--L\u001b[44m\u001b[97mI\u001b[0m---KF\u001b[44m\u001b[97mP\u001b[0m-VSS\u001b[44m\u001b[97mT\u001b[0m------\u001b[44m\u001b[97mA\u001b[0m-P\u001b[44m\u001b[97mT\u001b[0mL\u001b[44m\u001b[97mD\u001b[0m-AKSF\u001b[44m\u001b[97mY\u001b[0mKY\u001b[44m\u001b[97mF\u001b[0mQLR\u001b[44m\u001b[97mD\u001b[0mTL\u001b[44m\u001b[97mD\u001b[0m--DRLTAVTA\n",
      "\n",
      "type1\t---\u001b[44m\u001b[97mS\u001b[0m--\u001b[44m\u001b[97mG\u001b[0mICK\u001b[44m\u001b[97mT\u001b[0mG--\u001b[44m\u001b[97mD\u001b[0mC---------\u001b[44m\u001b[97mG\u001b[0m----------\u001b[44m\u001b[97mG\u001b[0mL\u001b[44m\u001b[97mL\u001b[0mRC\u001b[44m\u001b[97mK\u001b[0mRFG\u001b[44m\u001b[97mR\u001b[0mP----\u001b[44m\u001b[97mP\u001b[0mTTL-----\u001b[44m\u001b[97mA\u001b[0mE-\u001b[44m\u001b[97mF\u001b[0mSLN\u001b[44m\u001b[97mQ\u001b[0mY\u001b[44m\u001b[97mG\u001b[0m\u001b[44m\u001b[97mK\u001b[0mDY--------\u001b[44m\u001b[97mI\u001b[0mD------\u001b[44m\u001b[97mI\u001b[0m\u001b[44m\u001b[97mS\u001b[0m---------\n",
      "type2\tTEV\u001b[44m\u001b[97mS\u001b[0mLE\u001b[44m\u001b[97mG\u001b[0m---\u001b[44m\u001b[97mT\u001b[0m-TL\u001b[44m\u001b[97mD\u001b[0m-PTDYKVDTK\u001b[44m\u001b[97mG\u001b[0mQTVTVTFTAE\u001b[44m\u001b[97mG\u001b[0m-\u001b[44m\u001b[97mL\u001b[0m--\u001b[44m\u001b[97mK\u001b[0m---\u001b[44m\u001b[97mR\u001b[0m-IKAA\u001b[44m\u001b[97mP\u001b[0m---GKKVS\u001b[44m\u001b[97mA\u001b[0m-V\u001b[44m\u001b[97mF\u001b[0m---\u001b[44m\u001b[97mQ\u001b[0m-\u001b[44m\u001b[97mG\u001b[0m\u001b[44m\u001b[97mK\u001b[0m--VTEARNGA\u001b[44m\u001b[97mI\u001b[0m-TNRAQV\u001b[44m\u001b[97mI\u001b[0m\u001b[44m\u001b[97mS\u001b[0mDTVYAEQPP\n",
      "\n",
      "type1\t-------\u001b[44m\u001b[97mN\u001b[0mIKGF--\u001b[44m\u001b[97mN\u001b[0mV\u001b[44m\u001b[97mP\u001b[0mMDFS\u001b[44m\u001b[97mP\u001b[0m\u001b[44m\u001b[97mT\u001b[0m----\u001b[44m\u001b[97mT\u001b[0mRGC-\u001b[44m\u001b[97mR\u001b[0m-\u001b[44m\u001b[97mG\u001b[0mVRCAA\u001b[44m\u001b[97mD\u001b[0m--\u001b[44m\u001b[97mI\u001b[0m--\u001b[44m\u001b[97mV\u001b[0m-----\u001b[44m\u001b[97mG\u001b[0m\u001b[44m\u001b[97mQ\u001b[0mCPAKL-\u001b[44m\u001b[97mK\u001b[0m\u001b[44m\u001b[97mA\u001b[0mP\u001b[44m\u001b[97mG\u001b[0m--\u001b[44m\u001b[97mG\u001b[0m-------------\u001b[44m\u001b[97mG\u001b[0m-\u001b[44m\u001b[97mC\u001b[0mN--\u001b[44m\u001b[97mD\u001b[0m------\u001b[44m\u001b[97mA\u001b[0mC----\u001b[44m\u001b[97mT\u001b[0m\n",
      "type2\tTPEEPPA\u001b[44m\u001b[97mN\u001b[0m----PE\u001b[44m\u001b[97mN\u001b[0m-\u001b[44m\u001b[97mP\u001b[0m----\u001b[44m\u001b[97mP\u001b[0m\u001b[44m\u001b[97mT\u001b[0mSNEV\u001b[44m\u001b[97mT\u001b[0m---S\u001b[44m\u001b[97mR\u001b[0mW\u001b[44m\u001b[97mG\u001b[0m-----\u001b[44m\u001b[97mD\u001b[0mLL\u001b[44m\u001b[97mI\u001b[0mKK\u001b[44m\u001b[97mV\u001b[0mDNHQQ\u001b[44m\u001b[97mG\u001b[0m\u001b[44m\u001b[97mQ\u001b[0m-----D\u001b[44m\u001b[97mK\u001b[0m\u001b[44m\u001b[97mA\u001b[0m-\u001b[44m\u001b[97mG\u001b[0mLQ\u001b[44m\u001b[97mG\u001b[0mAQFQLYKAKNAYA\u001b[44m\u001b[97mG\u001b[0mT\u001b[44m\u001b[97mC\u001b[0m-TK\u001b[44m\u001b[97mD\u001b[0mKEGDPI\u001b[44m\u001b[97mA\u001b[0m-INGE\u001b[44m\u001b[97mT\u001b[0m\n",
      "\n",
      "type1\tVFQ\u001b[44m\u001b[97mT\u001b[0mSEYCC-\u001b[44m\u001b[97mT\u001b[0m\u001b[44m\u001b[97mT\u001b[0m---\u001b[44m\u001b[97mG\u001b[0m----\u001b[44m\u001b[97mK\u001b[0mC\u001b[44m\u001b[97mG\u001b[0mPTEY---\u001b[44m\u001b[97mS\u001b[0m-------\u001b[44m\u001b[97mR\u001b[0mFF---\u001b[44m\u001b[97mK\u001b[0m----\u001b[44m\u001b[97mR\u001b[0mL\u001b[44m\u001b[97mC\u001b[0m--------\u001b[44m\u001b[97mP\u001b[0mD\u001b[44m\u001b[97mA\u001b[0mFS-\u001b[44m\u001b[97mY\u001b[0m\u001b[44m\u001b[97mV\u001b[0m\u001b[44m\u001b[97mL\u001b[0mDK\u001b[44m\u001b[97mP\u001b[0mTT-----\u001b[44m\u001b[97mV\u001b[0m\u001b[44m\u001b[97mT\u001b[0mC\u001b[44m\u001b[97mP\u001b[0m-----\u001b[44m\u001b[97mG\u001b[0mSS-----\u001b[44m\u001b[97mN\u001b[0mYR\u001b[44m\u001b[97mV\u001b[0m\n",
      "type2\t---\u001b[44m\u001b[97mT\u001b[0m-----L\u001b[44m\u001b[97mT\u001b[0m\u001b[44m\u001b[97mT\u001b[0mDAQ\u001b[44m\u001b[97mG\u001b[0mAINV\u001b[44m\u001b[97mK\u001b[0m-\u001b[44m\u001b[97mG\u001b[0m----LFI\u001b[44m\u001b[97mS\u001b[0mDSIDGAN\u001b[44m\u001b[97mR\u001b[0m--DNQ\u001b[44m\u001b[97mK\u001b[0mDATA\u001b[44m\u001b[97mR\u001b[0m-\u001b[44m\u001b[97mC\u001b[0mYVLVETKA\u001b[44m\u001b[97mP\u001b[0m-\u001b[44m\u001b[97mA\u001b[0m--G\u001b[44m\u001b[97mY\u001b[0m\u001b[44m\u001b[97mV\u001b[0m\u001b[44m\u001b[97mL\u001b[0m--\u001b[44m\u001b[97mP\u001b[0m--AGDGA\u001b[44m\u001b[97mV\u001b[0m\u001b[44m\u001b[97mT\u001b[0m-\u001b[44m\u001b[97mP\u001b[0mVKIEV\u001b[44m\u001b[97mG\u001b[0m--AVTTD\u001b[44m\u001b[97mN\u001b[0m--\u001b[44m\u001b[97mV\u001b[0m\n",
      "\n",
      "type1\t\u001b[44m\u001b[97mT\u001b[0mFCP---\u001b[44m\u001b[97mT\u001b[0mA--\n",
      "type2\t\u001b[44m\u001b[97mT\u001b[0m---IEN\u001b[44m\u001b[97mT\u001b[0m-KQ\n",
      "\n",
      "Percentage of non-gaps: 60.46228710462287 %\n",
      "Percentage of totally conserved columns: 20.92457420924574\n",
      "Entropy score: -225.2728336819827\n",
      "Sum of Pairs score (Blosum62): -2143\n",
      "Sum of Pairs score (PAM250): -2206\n"
     ]
    },
    {
     "ename": "Exception",
     "evalue": "The pair (A,A) couldn't be found in the substitution matrix",
     "output_type": "error",
     "traceback": [
      "\u001b[0;31m---------------------------------------------------------------------------\u001b[0m",
      "\u001b[0;31mKeyError\u001b[0m                                  Traceback (most recent call last)",
      "\u001b[0;32m~/opt/anaconda3/lib/python3.9/site-packages/pymsa/core/substitution_matrix.py\u001b[0m in \u001b[0;36mget_distance\u001b[0;34m(self, char1, char2)\u001b[0m\n\u001b[1;32m     27\u001b[0m             \u001b[0;32mtry\u001b[0m\u001b[0;34m:\u001b[0m\u001b[0;34m\u001b[0m\u001b[0;34m\u001b[0m\u001b[0m\n\u001b[0;32m---> 28\u001b[0;31m                 \u001b[0mdistance\u001b[0m \u001b[0;34m=\u001b[0m \u001b[0mmatrix\u001b[0m\u001b[0;34m[\u001b[0m\u001b[0;34m(\u001b[0m\u001b[0mchar1\u001b[0m\u001b[0;34m,\u001b[0m \u001b[0mchar2\u001b[0m\u001b[0;34m)\u001b[0m\u001b[0;34m]\u001b[0m \u001b[0;32mif\u001b[0m \u001b[0;34m(\u001b[0m\u001b[0mchar1\u001b[0m\u001b[0;34m,\u001b[0m \u001b[0mchar2\u001b[0m\u001b[0;34m)\u001b[0m \u001b[0;32min\u001b[0m \u001b[0mmatrix\u001b[0m \u001b[0;32melse\u001b[0m \u001b[0mmatrix\u001b[0m\u001b[0;34m[\u001b[0m\u001b[0;34m(\u001b[0m\u001b[0mchar2\u001b[0m\u001b[0;34m,\u001b[0m \u001b[0mchar1\u001b[0m\u001b[0;34m)\u001b[0m\u001b[0;34m]\u001b[0m\u001b[0;34m\u001b[0m\u001b[0;34m\u001b[0m\u001b[0m\n\u001b[0m\u001b[1;32m     29\u001b[0m             \u001b[0;32mexcept\u001b[0m \u001b[0mKeyError\u001b[0m\u001b[0;34m:\u001b[0m\u001b[0;34m\u001b[0m\u001b[0;34m\u001b[0m\u001b[0m\n",
      "\u001b[0;31mKeyError\u001b[0m: ('A', 'A')",
      "\nDuring handling of the above exception, another exception occurred:\n",
      "\u001b[0;31mException\u001b[0m                                 Traceback (most recent call last)",
      "\u001b[0;32m/var/folders/n3/cmw18szj2yscbn_qyqj2rtkc0000gn/T/ipykernel_11446/3881233831.py\u001b[0m in \u001b[0;36m<module>\u001b[0;34m\u001b[0m\n\u001b[1;32m     49\u001b[0m                  (\"type2\",\n\u001b[1;32m     50\u001b[0m                   \"NEA---I----S--V----EKSIQEQK----L--NGYG-----VG-S--LI---KFP-VSST------A-PTLD-AKSFYKYFQLRDTLD--DRLTAVTATEVSLEG---T-TLD-PTDYKVDTKGQTVTVTFTAEG-L--K---R-IKAAP---GKKVSA-VF---Q-GK--VTEARNGAI-TNRAQVISDTVYAEQPPTPEEPPAN----PEN-P----PTSNEVT---SRWG-----DLLIKKVDNHQQGQ-----DKA-GLQGAQFQLYKAKNAYAGTC-TKDKEGDPIA-INGET---T-----LTTDAQGAINVK-G----LFISDSIDGANR--DNQKDATAR-CYVLVETKAP-A--GYVL--P--AGDGAVT-PVKIEVG--AVTTDN--VT---IENT-KQ\")]\n\u001b[0;32m---> 51\u001b[0;31m     \u001b[0mrun_all_scores\u001b[0m\u001b[0;34m(\u001b[0m\u001b[0msequences\u001b[0m\u001b[0;34m)\u001b[0m\u001b[0;34m\u001b[0m\u001b[0;34m\u001b[0m\u001b[0m\n\u001b[0m\u001b[1;32m     52\u001b[0m \u001b[0;34m\u001b[0m\u001b[0m\n\u001b[1;32m     53\u001b[0m \u001b[0;34m\u001b[0m\u001b[0m\n",
      "\u001b[0;32m/var/folders/n3/cmw18szj2yscbn_qyqj2rtkc0000gn/T/ipykernel_11446/3881233831.py\u001b[0m in \u001b[0;36mrun_all_scores\u001b[0;34m(sequences)\u001b[0m\n\u001b[1;32m     33\u001b[0m     \u001b[0mprint\u001b[0m\u001b[0;34m(\u001b[0m\u001b[0;34m\"Sum of Pairs score (PAM250): {0}\"\u001b[0m\u001b[0;34m.\u001b[0m\u001b[0mformat\u001b[0m\u001b[0;34m(\u001b[0m\u001b[0mvalue\u001b[0m\u001b[0;34m)\u001b[0m\u001b[0;34m)\u001b[0m\u001b[0;34m\u001b[0m\u001b[0;34m\u001b[0m\u001b[0m\n\u001b[1;32m     34\u001b[0m \u001b[0;34m\u001b[0m\u001b[0m\n\u001b[0;32m---> 35\u001b[0;31m     \u001b[0mvalue\u001b[0m \u001b[0;34m=\u001b[0m \u001b[0mSumOfPairs\u001b[0m\u001b[0;34m(\u001b[0m\u001b[0mmsa\u001b[0m\u001b[0;34m,\u001b[0m \u001b[0mFileMatrix\u001b[0m\u001b[0;34m(\u001b[0m\u001b[0;34m'membrane_combined.fasta'\u001b[0m\u001b[0;34m)\u001b[0m\u001b[0;34m)\u001b[0m\u001b[0;34m.\u001b[0m\u001b[0mcompute\u001b[0m\u001b[0;34m(\u001b[0m\u001b[0;34m)\u001b[0m\u001b[0;34m\u001b[0m\u001b[0;34m\u001b[0m\u001b[0m\n\u001b[0m\u001b[1;32m     36\u001b[0m     \u001b[0mprint\u001b[0m\u001b[0;34m(\u001b[0m\u001b[0;34m\"Sum of Pairs score (PAM380): {0}\"\u001b[0m\u001b[0;34m.\u001b[0m\u001b[0mformat\u001b[0m\u001b[0;34m(\u001b[0m\u001b[0mvalue\u001b[0m\u001b[0;34m)\u001b[0m\u001b[0;34m)\u001b[0m\u001b[0;34m\u001b[0m\u001b[0;34m\u001b[0m\u001b[0m\n\u001b[1;32m     37\u001b[0m \u001b[0;34m\u001b[0m\u001b[0m\n",
      "\u001b[0;32m~/opt/anaconda3/lib/python3.9/site-packages/pymsa/core/score.py\u001b[0m in \u001b[0;36mcompute\u001b[0;34m(self)\u001b[0m\n\u001b[1;32m     38\u001b[0m \u001b[0;34m\u001b[0m\u001b[0m\n\u001b[1;32m     39\u001b[0m         \u001b[0;32mfor\u001b[0m \u001b[0mk\u001b[0m \u001b[0;32min\u001b[0m \u001b[0mrange\u001b[0m\u001b[0;34m(\u001b[0m\u001b[0mlen\u001b[0m\u001b[0;34m(\u001b[0m\u001b[0mself\u001b[0m\u001b[0;34m.\u001b[0m\u001b[0mmsa\u001b[0m\u001b[0;34m)\u001b[0m\u001b[0;34m)\u001b[0m\u001b[0;34m:\u001b[0m\u001b[0;34m\u001b[0m\u001b[0;34m\u001b[0m\u001b[0m\n\u001b[0;32m---> 40\u001b[0;31m             \u001b[0mfinal_score\u001b[0m \u001b[0;34m+=\u001b[0m \u001b[0mself\u001b[0m\u001b[0;34m.\u001b[0m\u001b[0mget_column_score\u001b[0m\u001b[0;34m(\u001b[0m\u001b[0mk\u001b[0m\u001b[0;34m)\u001b[0m\u001b[0;34m\u001b[0m\u001b[0;34m\u001b[0m\u001b[0m\n\u001b[0m\u001b[1;32m     41\u001b[0m \u001b[0;34m\u001b[0m\u001b[0m\n\u001b[1;32m     42\u001b[0m         \u001b[0;32mreturn\u001b[0m \u001b[0mfinal_score\u001b[0m\u001b[0;34m\u001b[0m\u001b[0;34m\u001b[0m\u001b[0m\n",
      "\u001b[0;32m~/opt/anaconda3/lib/python3.9/site-packages/pymsa/core/score.py\u001b[0m in \u001b[0;36mget_column_score\u001b[0;34m(self, k)\u001b[0m\n\u001b[1;32m    124\u001b[0m         \u001b[0mscore_of_column\u001b[0m \u001b[0;34m=\u001b[0m \u001b[0;36m0\u001b[0m\u001b[0;34m\u001b[0m\u001b[0;34m\u001b[0m\u001b[0m\n\u001b[1;32m    125\u001b[0m         \u001b[0;32mfor\u001b[0m \u001b[0mchar_a\u001b[0m\u001b[0;34m,\u001b[0m \u001b[0mchar_b\u001b[0m \u001b[0;32min\u001b[0m \u001b[0mself\u001b[0m\u001b[0;34m.\u001b[0m\u001b[0mpossible_combinations\u001b[0m\u001b[0;34m(\u001b[0m\u001b[0mcolumn\u001b[0m\u001b[0;34m)\u001b[0m\u001b[0;34m:\u001b[0m\u001b[0;34m\u001b[0m\u001b[0;34m\u001b[0m\u001b[0m\n\u001b[0;32m--> 126\u001b[0;31m             \u001b[0mscore_of_column\u001b[0m \u001b[0;34m+=\u001b[0m \u001b[0mget_score_of_two_chars\u001b[0m\u001b[0;34m(\u001b[0m\u001b[0mself\u001b[0m\u001b[0;34m.\u001b[0m\u001b[0msubstitution_matrix\u001b[0m\u001b[0;34m,\u001b[0m \u001b[0mchar_a\u001b[0m\u001b[0;34m,\u001b[0m \u001b[0mchar_b\u001b[0m\u001b[0;34m)\u001b[0m\u001b[0;34m\u001b[0m\u001b[0;34m\u001b[0m\u001b[0m\n\u001b[0m\u001b[1;32m    127\u001b[0m \u001b[0;34m\u001b[0m\u001b[0m\n\u001b[1;32m    128\u001b[0m         \u001b[0;32mreturn\u001b[0m \u001b[0mscore_of_column\u001b[0m\u001b[0;34m\u001b[0m\u001b[0;34m\u001b[0m\u001b[0m\n",
      "\u001b[0;32m~/opt/anaconda3/lib/python3.9/site-packages/pymsa/core/score.py\u001b[0m in \u001b[0;36mget_score_of_two_chars\u001b[0;34m(substitution_matrix, char_a, char_b)\u001b[0m\n\u001b[1;32m     25\u001b[0m     \u001b[0;34m:\u001b[0m\u001b[0;32mreturn\u001b[0m\u001b[0;34m:\u001b[0m \u001b[0mValue\u001b[0m \u001b[0mof\u001b[0m \u001b[0mthe\u001b[0m \u001b[0mcore\u001b[0m\u001b[0;34m.\u001b[0m\u001b[0;34m\u001b[0m\u001b[0;34m\u001b[0m\u001b[0m\n\u001b[1;32m     26\u001b[0m     \"\"\"\n\u001b[0;32m---> 27\u001b[0;31m     \u001b[0;32mreturn\u001b[0m \u001b[0mint\u001b[0m\u001b[0;34m(\u001b[0m\u001b[0msubstitution_matrix\u001b[0m\u001b[0;34m.\u001b[0m\u001b[0mget_distance\u001b[0m\u001b[0;34m(\u001b[0m\u001b[0mchar_a\u001b[0m\u001b[0;34m,\u001b[0m \u001b[0mchar_b\u001b[0m\u001b[0;34m)\u001b[0m\u001b[0;34m)\u001b[0m\u001b[0;34m\u001b[0m\u001b[0;34m\u001b[0m\u001b[0m\n\u001b[0m\u001b[1;32m     28\u001b[0m \u001b[0;34m\u001b[0m\u001b[0m\n\u001b[1;32m     29\u001b[0m \u001b[0;34m\u001b[0m\u001b[0m\n",
      "\u001b[0;32m~/opt/anaconda3/lib/python3.9/site-packages/pymsa/core/substitution_matrix.py\u001b[0m in \u001b[0;36mget_distance\u001b[0;34m(self, char1, char2)\u001b[0m\n\u001b[1;32m     28\u001b[0m                 \u001b[0mdistance\u001b[0m \u001b[0;34m=\u001b[0m \u001b[0mmatrix\u001b[0m\u001b[0;34m[\u001b[0m\u001b[0;34m(\u001b[0m\u001b[0mchar1\u001b[0m\u001b[0;34m,\u001b[0m \u001b[0mchar2\u001b[0m\u001b[0;34m)\u001b[0m\u001b[0;34m]\u001b[0m \u001b[0;32mif\u001b[0m \u001b[0;34m(\u001b[0m\u001b[0mchar1\u001b[0m\u001b[0;34m,\u001b[0m \u001b[0mchar2\u001b[0m\u001b[0;34m)\u001b[0m \u001b[0;32min\u001b[0m \u001b[0mmatrix\u001b[0m \u001b[0;32melse\u001b[0m \u001b[0mmatrix\u001b[0m\u001b[0;34m[\u001b[0m\u001b[0;34m(\u001b[0m\u001b[0mchar2\u001b[0m\u001b[0;34m,\u001b[0m \u001b[0mchar1\u001b[0m\u001b[0;34m)\u001b[0m\u001b[0;34m]\u001b[0m\u001b[0;34m\u001b[0m\u001b[0;34m\u001b[0m\u001b[0m\n\u001b[1;32m     29\u001b[0m             \u001b[0;32mexcept\u001b[0m \u001b[0mKeyError\u001b[0m\u001b[0;34m:\u001b[0m\u001b[0;34m\u001b[0m\u001b[0;34m\u001b[0m\u001b[0m\n\u001b[0;32m---> 30\u001b[0;31m                 \u001b[0;32mraise\u001b[0m \u001b[0mException\u001b[0m\u001b[0;34m(\u001b[0m\u001b[0;34m'The pair ({0},{1}) couldn\\'t be found in the substitution matrix'\u001b[0m\u001b[0;34m.\u001b[0m\u001b[0mformat\u001b[0m\u001b[0;34m(\u001b[0m\u001b[0mchar1\u001b[0m\u001b[0;34m,\u001b[0m \u001b[0mchar2\u001b[0m\u001b[0;34m)\u001b[0m\u001b[0;34m)\u001b[0m\u001b[0;34m\u001b[0m\u001b[0;34m\u001b[0m\u001b[0m\n\u001b[0m\u001b[1;32m     31\u001b[0m \u001b[0;34m\u001b[0m\u001b[0m\n\u001b[1;32m     32\u001b[0m         \u001b[0;32mreturn\u001b[0m \u001b[0mdistance\u001b[0m\u001b[0;34m\u001b[0m\u001b[0;34m\u001b[0m\u001b[0m\n",
      "\u001b[0;31mException\u001b[0m: The pair (A,A) couldn't be found in the substitution matrix"
     ]
    }
   ],
   "source": [
    "#pairwise sequence alignment package\n",
    "from pymsa import MSA, Entropy, PercentageOfNonGaps, PercentageOfTotallyConservedColumns, Star, SumOfPairs\n",
    "from pymsa import PAM250, Blosum62, FileMatrix\n",
    "from pymsa.util.fasta import print_alignment\n",
    "\n",
    "# Local variable is defined. It is ordered within the function thus, below codes are the local vairables. \n",
    "def run_all_scores(sequences: list) -> None:\n",
    "    aligned_sequences = list(pair[1] for pair in sequences)\n",
    "    sequences_id = list(pair[0] for pair in sequences)\n",
    "\n",
    "    msa = MSA(aligned_sequences, sequences_id)\n",
    "    print_alignment(msa)\n",
    "\n",
    "    # Percentage of non-gaps and totally conserved columns\n",
    "    non_gaps = PercentageOfNonGaps(msa)\n",
    "    totally_conserved_columns = PercentageOfTotallyConservedColumns(msa)\n",
    "\n",
    "    percentage = non_gaps.compute()\n",
    "    print(\"Percentage of non-gaps: {0} %\".format(percentage))\n",
    "\n",
    "    conserved = totally_conserved_columns.compute()\n",
    "    print(\"Percentage of totally conserved columns: {0}\".format(conserved))\n",
    "\n",
    "    # Entropy\n",
    "    value = Entropy(msa).compute()\n",
    "    print(\"Entropy score: {0}\".format(value))\n",
    "\n",
    "    # Sum of pairs\n",
    "    value = SumOfPairs(msa, Blosum62()).compute()\n",
    "    print(\"Sum of Pairs score (Blosum62): {0}\".format(value))\n",
    "\n",
    "    value = SumOfPairs(msa, PAM250()).compute()\n",
    "    print(\"Sum of Pairs score (PAM250): {0}\".format(value))\n",
    "\n",
    "    value = SumOfPairs(msa, FileMatrix('membrane_combined.fasta')).compute()\n",
    "    print(\"Sum of Pairs score (PAM380): {0}\".format(value))\n",
    "\n",
    "    # Star\n",
    "    value = Star(msa, Blosum62()).compute()\n",
    "    print(\"Star score (Blosum62): {0}\".format(value))\n",
    "\n",
    "    value = Star(msa, PAM250()).compute()\n",
    "    print(\"Star score (PAM250): {0}\".format(value))\n",
    "\n",
    "\n",
    "if __name__ == '__main__':\n",
    "    sequences = [(\"type1\",\n",
    "                  \"--ATFEIVNRCSYTVWAAA--S----KGDAALDA-G-GRQLNS-GESWT-INVE--PG---TNGGKIWAR-T-DC----Y--F---D--DSG-----------S--GICKTG--DC---------G----------GLLRCKRFGRP----PTTL-----AE-FSLNQYGKDY--------ID------IS----------------NIKGF--NVPMDFSPT----TRGC-R-GVRCAAD--I--V-----GQCPAKL-KAPG--G-------------G-CN--D------AC----TVFQTSEYCC-TT---G----KCGPTEY---S-------RFF---K----RLC--------PDAFS-YVLDKPTT-----VTCP-----GSS-----NYRVTFCP---TA--\"),\n",
    "                 (\"type2\",\n",
    "                  \"NEA---I----S--V----EKSIQEQK----L--NGYG-----VG-S--LI---KFP-VSST------A-PTLD-AKSFYKYFQLRDTLD--DRLTAVTATEVSLEG---T-TLD-PTDYKVDTKGQTVTVTFTAEG-L--K---R-IKAAP---GKKVSA-VF---Q-GK--VTEARNGAI-TNRAQVISDTVYAEQPPTPEEPPAN----PEN-P----PTSNEVT---SRWG-----DLLIKKVDNHQQGQ-----DKA-GLQGAQFQLYKAKNAYAGTC-TKDKEGDPIA-INGET---T-----LTTDAQGAINVK-G----LFISDSIDGANR--DNQKDATAR-CYVLVETKAP-A--GYVL--P--AGDGAVT-PVKIEVG--AVTTDN--VT---IENT-KQ\")]\n",
    "    run_all_scores(sequences)\n",
    "\n",
    "    \n",
    "    \n",
    "# source: \n",
    "# https://github.com/benhid/pyMSA \n",
    "# https://github.com/benhid/pyMSA/blob/master/examples/runner.py "
   ]
  },
  {
   "cell_type": "markdown",
   "id": "ece923a5",
   "metadata": {},
   "source": [
    "## Method #2: Structural analysis "
   ]
  },
  {
   "cell_type": "markdown",
   "id": "17eefcd0",
   "metadata": {},
   "source": [
    "Method#2 discription: For method 2, I chose the structural analysis in order to compare the fimbriae of those three bacteria. Fimbriae is a long and thin protein that is attached to the outer membrane of the bacteria. Fimbriae helps bacteria to attach on the surface. Since Rothia dentocariosa appears to be with the SARS-CoV-2 more frequently, I’ll compare the shape of fimbriae between those three bacteria and find any structural differences. \n"
   ]
  },
  {
   "cell_type": "code",
   "execution_count": 6,
   "id": "5b2a05a2",
   "metadata": {},
   "outputs": [],
   "source": [
    "# install py3Dmol for visualizing fimbriae protein structures. \n",
    "# Structural analysis source: https://www.blopig.com/blog/2016/10/viewing-3d-molecules-interactively-in-jupyter-ipython-notebooks/"
   ]
  },
  {
   "cell_type": "code",
   "execution_count": 7,
   "id": "16699e83",
   "metadata": {},
   "outputs": [
    {
     "name": "stdout",
     "output_type": "stream",
     "text": [
      "Requirement already satisfied: py3Dmol in /Users/choejeong-in/opt/anaconda3/lib/python3.9/site-packages (1.8.0)\n",
      "Note: you may need to restart the kernel to use updated packages.\n"
     ]
    }
   ],
   "source": [
    "pip install py3Dmol"
   ]
  },
  {
   "cell_type": "code",
   "execution_count": 8,
   "id": "b0598135",
   "metadata": {},
   "outputs": [
    {
     "data": {
      "application/3dmoljs_load.v0": "<div id=\"3dmolviewer_1654401060574354\"  style=\"position: relative; width: 640px; height: 480px\">\n        <p id=\"3dmolwarning_1654401060574354\" style=\"background-color:#ffcccc;color:black\">You appear to be running in JupyterLab (or JavaScript failed to load for some other reason).  You need to install the 3dmol extension: <br>\n        <tt>jupyter labextension install jupyterlab_3dmol</tt></p>\n        </div>\n<script>\n\nvar loadScriptAsync = function(uri){\n  return new Promise((resolve, reject) => {\n    var tag = document.createElement('script');\n    tag.src = uri;\n    tag.async = true;\n    tag.onload = () => {\n      resolve();\n    };\n  var firstScriptTag = document.getElementsByTagName('script')[0];\n  firstScriptTag.parentNode.insertBefore(tag, firstScriptTag);\n});\n};\n\nif(typeof $3Dmolpromise === 'undefined') {\n$3Dmolpromise = null;\n  $3Dmolpromise = loadScriptAsync('https://3dmol.org/build/3Dmol.js');\n}\n\nvar viewer_1654401060574354 = null;\nvar warn = document.getElementById(\"3dmolwarning_1654401060574354\");\nif(warn) {\n    warn.parentNode.removeChild(warn);\n}\n$3Dmolpromise.then(function() {\nviewer_1654401060574354 = $3Dmol.createViewer($(\"#3dmolviewer_1654401060574354\"),{backgroundColor:\"white\"});\n$3Dmol.download(\"pdb:5GQP\", viewer_1654401060574354, {}, function() {\nviewer_1654401060574354.zoomTo();\n\tviewer_1654401060574354.setStyle({\"cartoon\": {\"color\": \"spectrum\"}});\nviewer_1654401060574354.render();\n})\n});\n</script>",
      "text/html": [
       "<div id=\"3dmolviewer_1654401060574354\"  style=\"position: relative; width: 640px; height: 480px\">\n",
       "        <p id=\"3dmolwarning_1654401060574354\" style=\"background-color:#ffcccc;color:black\">You appear to be running in JupyterLab (or JavaScript failed to load for some other reason).  You need to install the 3dmol extension: <br>\n",
       "        <tt>jupyter labextension install jupyterlab_3dmol</tt></p>\n",
       "        </div>\n",
       "<script>\n",
       "\n",
       "var loadScriptAsync = function(uri){\n",
       "  return new Promise((resolve, reject) => {\n",
       "    var tag = document.createElement('script');\n",
       "    tag.src = uri;\n",
       "    tag.async = true;\n",
       "    tag.onload = () => {\n",
       "      resolve();\n",
       "    };\n",
       "  var firstScriptTag = document.getElementsByTagName('script')[0];\n",
       "  firstScriptTag.parentNode.insertBefore(tag, firstScriptTag);\n",
       "});\n",
       "};\n",
       "\n",
       "if(typeof $3Dmolpromise === 'undefined') {\n",
       "$3Dmolpromise = null;\n",
       "  $3Dmolpromise = loadScriptAsync('https://3dmol.org/build/3Dmol.js');\n",
       "}\n",
       "\n",
       "var viewer_1654401060574354 = null;\n",
       "var warn = document.getElementById(\"3dmolwarning_1654401060574354\");\n",
       "if(warn) {\n",
       "    warn.parentNode.removeChild(warn);\n",
       "}\n",
       "$3Dmolpromise.then(function() {\n",
       "viewer_1654401060574354 = $3Dmol.createViewer($(\"#3dmolviewer_1654401060574354\"),{backgroundColor:\"white\"});\n",
       "$3Dmol.download(\"pdb:5GQP\", viewer_1654401060574354, {}, function() {\n",
       "viewer_1654401060574354.zoomTo();\n",
       "\tviewer_1654401060574354.setStyle({\"cartoon\": {\"color\": \"spectrum\"}});\n",
       "viewer_1654401060574354.render();\n",
       "})\n",
       "});\n",
       "</script>"
      ]
     },
     "metadata": {},
     "output_type": "display_data"
    },
    {
     "data": {
      "text/plain": [
       "<py3Dmol.view at 0x7fef7fe7efd0>"
      ]
     },
     "execution_count": 8,
     "metadata": {},
     "output_type": "execute_result"
    }
   ],
   "source": [
    "# Rothia mucilaginosa and Rothia aeria have type1 fimbriae\n",
    "import py3Dmol\n",
    "view = py3Dmol.view(query='pdb:5GQP')\n",
    "view.setStyle({'cartoon':{'color':'spectrum'}})\n",
    "view\n",
    "\n",
    "# pdb file source: https://www.rcsb.org/structure/5GQP "
   ]
  },
  {
   "cell_type": "code",
   "execution_count": 9,
   "id": "b253bc0f",
   "metadata": {},
   "outputs": [
    {
     "data": {
      "application/3dmoljs_load.v0": "<div id=\"3dmolviewer_1654401063046009\"  style=\"position: relative; width: 640px; height: 480px\">\n        <p id=\"3dmolwarning_1654401063046009\" style=\"background-color:#ffcccc;color:black\">You appear to be running in JupyterLab (or JavaScript failed to load for some other reason).  You need to install the 3dmol extension: <br>\n        <tt>jupyter labextension install jupyterlab_3dmol</tt></p>\n        </div>\n<script>\n\nvar loadScriptAsync = function(uri){\n  return new Promise((resolve, reject) => {\n    var tag = document.createElement('script');\n    tag.src = uri;\n    tag.async = true;\n    tag.onload = () => {\n      resolve();\n    };\n  var firstScriptTag = document.getElementsByTagName('script')[0];\n  firstScriptTag.parentNode.insertBefore(tag, firstScriptTag);\n});\n};\n\nif(typeof $3Dmolpromise === 'undefined') {\n$3Dmolpromise = null;\n  $3Dmolpromise = loadScriptAsync('https://3dmol.org/build/3Dmol.js');\n}\n\nvar viewer_1654401063046009 = null;\nvar warn = document.getElementById(\"3dmolwarning_1654401063046009\");\nif(warn) {\n    warn.parentNode.removeChild(warn);\n}\n$3Dmolpromise.then(function() {\nviewer_1654401063046009 = $3Dmol.createViewer($(\"#3dmolviewer_1654401063046009\"),{backgroundColor:\"white\"});\n$3Dmol.download(\"pdb:3QDH\", viewer_1654401063046009, {}, function() {\nviewer_1654401063046009.zoomTo();\n\tviewer_1654401063046009.setStyle({\"cartoon\": {\"color\": \"spectrum\"}});\nviewer_1654401063046009.render();\n})\n});\n</script>",
      "text/html": [
       "<div id=\"3dmolviewer_1654401063046009\"  style=\"position: relative; width: 640px; height: 480px\">\n",
       "        <p id=\"3dmolwarning_1654401063046009\" style=\"background-color:#ffcccc;color:black\">You appear to be running in JupyterLab (or JavaScript failed to load for some other reason).  You need to install the 3dmol extension: <br>\n",
       "        <tt>jupyter labextension install jupyterlab_3dmol</tt></p>\n",
       "        </div>\n",
       "<script>\n",
       "\n",
       "var loadScriptAsync = function(uri){\n",
       "  return new Promise((resolve, reject) => {\n",
       "    var tag = document.createElement('script');\n",
       "    tag.src = uri;\n",
       "    tag.async = true;\n",
       "    tag.onload = () => {\n",
       "      resolve();\n",
       "    };\n",
       "  var firstScriptTag = document.getElementsByTagName('script')[0];\n",
       "  firstScriptTag.parentNode.insertBefore(tag, firstScriptTag);\n",
       "});\n",
       "};\n",
       "\n",
       "if(typeof $3Dmolpromise === 'undefined') {\n",
       "$3Dmolpromise = null;\n",
       "  $3Dmolpromise = loadScriptAsync('https://3dmol.org/build/3Dmol.js');\n",
       "}\n",
       "\n",
       "var viewer_1654401063046009 = null;\n",
       "var warn = document.getElementById(\"3dmolwarning_1654401063046009\");\n",
       "if(warn) {\n",
       "    warn.parentNode.removeChild(warn);\n",
       "}\n",
       "$3Dmolpromise.then(function() {\n",
       "viewer_1654401063046009 = $3Dmol.createViewer($(\"#3dmolviewer_1654401063046009\"),{backgroundColor:\"white\"});\n",
       "$3Dmol.download(\"pdb:3QDH\", viewer_1654401063046009, {}, function() {\n",
       "viewer_1654401063046009.zoomTo();\n",
       "\tviewer_1654401063046009.setStyle({\"cartoon\": {\"color\": \"spectrum\"}});\n",
       "viewer_1654401063046009.render();\n",
       "})\n",
       "});\n",
       "</script>"
      ]
     },
     "metadata": {},
     "output_type": "display_data"
    },
    {
     "data": {
      "text/plain": [
       "<py3Dmol.view at 0x7fef7fe7da30>"
      ]
     },
     "execution_count": 9,
     "metadata": {},
     "output_type": "execute_result"
    }
   ],
   "source": [
    "# Rothia denotocariosa has type2 fimbriae \n",
    "import py3Dmol\n",
    "view = py3Dmol.view(query='pdb:3QDH')\n",
    "view.setStyle({'cartoon':{'color':'spectrum'}})\n",
    "view\n",
    "\n",
    "# pdb file source: https://www.rcsb.org/structure/3QDH "
   ]
  },
  {
   "cell_type": "markdown",
   "id": "eada32b4",
   "metadata": {},
   "source": [
    "## Analysis Method: Sequence Logos"
   ]
  },
  {
   "cell_type": "markdown",
   "id": "d6f2c49d",
   "metadata": {},
   "source": [
    "Analysis method discription: For the analysis method, I chose to do 3D protein measurements and sequence logos. 3D protein measurements will enable us to visualize any special regions on the bacterial fimbriae. Sequence logos will help us to identify the conserved region and non conserved region of sequence. This will guide us to find the distinctive region that could possibly be a key element that links to the SARS-CoV-2 and Rothia dentocariosa. "
   ]
  },
  {
   "cell_type": "code",
   "execution_count": 10,
   "id": "578a3a04",
   "metadata": {},
   "outputs": [
    {
     "name": "stdout",
     "output_type": "stream",
     "text": [
      "Requirement already satisfied: logomaker in /Users/choejeong-in/opt/anaconda3/lib/python3.9/site-packages (0.8)\n",
      "Requirement already satisfied: pandas in /Users/choejeong-in/opt/anaconda3/lib/python3.9/site-packages (from logomaker) (1.3.4)\n",
      "Requirement already satisfied: matplotlib in /Users/choejeong-in/opt/anaconda3/lib/python3.9/site-packages (from logomaker) (3.4.3)\n",
      "Requirement already satisfied: numpy in /Users/choejeong-in/opt/anaconda3/lib/python3.9/site-packages (from logomaker) (1.20.3)\n",
      "Requirement already satisfied: kiwisolver>=1.0.1 in /Users/choejeong-in/opt/anaconda3/lib/python3.9/site-packages (from matplotlib->logomaker) (1.3.1)\n",
      "Requirement already satisfied: python-dateutil>=2.7 in /Users/choejeong-in/opt/anaconda3/lib/python3.9/site-packages (from matplotlib->logomaker) (2.8.2)\n",
      "Requirement already satisfied: pillow>=6.2.0 in /Users/choejeong-in/opt/anaconda3/lib/python3.9/site-packages (from matplotlib->logomaker) (8.4.0)\n",
      "Requirement already satisfied: cycler>=0.10 in /Users/choejeong-in/opt/anaconda3/lib/python3.9/site-packages (from matplotlib->logomaker) (0.10.0)\n",
      "Requirement already satisfied: pyparsing>=2.2.1 in /Users/choejeong-in/opt/anaconda3/lib/python3.9/site-packages (from matplotlib->logomaker) (3.0.4)\n",
      "Requirement already satisfied: six in /Users/choejeong-in/opt/anaconda3/lib/python3.9/site-packages (from cycler>=0.10->matplotlib->logomaker) (1.16.0)\n",
      "Requirement already satisfied: pytz>=2017.3 in /Users/choejeong-in/opt/anaconda3/lib/python3.9/site-packages (from pandas->logomaker) (2021.3)\n",
      "Note: you may need to restart the kernel to use updated packages.\n"
     ]
    }
   ],
   "source": [
    "pip install logomaker"
   ]
  },
  {
   "cell_type": "code",
   "execution_count": 11,
   "id": "daf56a4f",
   "metadata": {},
   "outputs": [],
   "source": [
    "import logomaker as lm"
   ]
  },
  {
   "cell_type": "code",
   "execution_count": 13,
   "id": "a40fea8c",
   "metadata": {},
   "outputs": [
    {
     "name": "stdout",
     "output_type": "stream",
     "text": [
      "['--ATFEIVNRCSYTVWAAA--S----KGDAALDA-G-GRQLNS-GESWT-INVE--PG---TNGGKIWAR-T-DC----Y--F---D--DSG--------', 'NEA---I----S--V----EKSIQEQK----L--NGYG-----VG-S--LI---KFP-VSST------A-PTLD-AKSFYKYFQLRDTLD--DRLTAVTA']\n"
     ]
    }
   ],
   "source": [
    "# type 1 and 2 sequence in same length (hard coding here)\n",
    "type1_type2_seqs1 = [\"--ATFEIVNRCSYTVWAAA--S----KGDAALDA-G-GRQLNS-GESWT-INVE--PG---TNGGKIWAR-T-DC----Y--F---D--DSG--------\",\n",
    "        \"NEA---I----S--V----EKSIQEQK----L--NGYG-----VG-S--LI---KFP-VSST------A-PTLD-AKSFYKYFQLRDTLD--DRLTAVTA\"]\n",
    "print(type1_type2_seqs1)"
   ]
  },
  {
   "cell_type": "code",
   "execution_count": 15,
   "id": "dac7c120",
   "metadata": {
    "scrolled": true
   },
   "outputs": [
    {
     "data": {
      "text/html": [
       "<div>\n",
       "<style scoped>\n",
       "    .dataframe tbody tr th:only-of-type {\n",
       "        vertical-align: middle;\n",
       "    }\n",
       "\n",
       "    .dataframe tbody tr th {\n",
       "        vertical-align: top;\n",
       "    }\n",
       "\n",
       "    .dataframe thead th {\n",
       "        text-align: right;\n",
       "    }\n",
       "</style>\n",
       "<table border=\"1\" class=\"dataframe\">\n",
       "  <thead>\n",
       "    <tr style=\"text-align: right;\">\n",
       "      <th></th>\n",
       "      <th>A</th>\n",
       "      <th>C</th>\n",
       "      <th>D</th>\n",
       "      <th>E</th>\n",
       "      <th>F</th>\n",
       "      <th>G</th>\n",
       "      <th>I</th>\n",
       "      <th>K</th>\n",
       "      <th>L</th>\n",
       "      <th>N</th>\n",
       "      <th>P</th>\n",
       "      <th>Q</th>\n",
       "      <th>R</th>\n",
       "      <th>S</th>\n",
       "      <th>T</th>\n",
       "      <th>V</th>\n",
       "      <th>W</th>\n",
       "      <th>Y</th>\n",
       "    </tr>\n",
       "    <tr>\n",
       "      <th>pos</th>\n",
       "      <th></th>\n",
       "      <th></th>\n",
       "      <th></th>\n",
       "      <th></th>\n",
       "      <th></th>\n",
       "      <th></th>\n",
       "      <th></th>\n",
       "      <th></th>\n",
       "      <th></th>\n",
       "      <th></th>\n",
       "      <th></th>\n",
       "      <th></th>\n",
       "      <th></th>\n",
       "      <th></th>\n",
       "      <th></th>\n",
       "      <th></th>\n",
       "      <th></th>\n",
       "      <th></th>\n",
       "    </tr>\n",
       "  </thead>\n",
       "  <tbody>\n",
       "    <tr>\n",
       "      <th>0</th>\n",
       "      <td>0.0</td>\n",
       "      <td>0.0</td>\n",
       "      <td>0.0</td>\n",
       "      <td>0.0</td>\n",
       "      <td>0.0</td>\n",
       "      <td>0.0</td>\n",
       "      <td>0.0</td>\n",
       "      <td>0.0</td>\n",
       "      <td>0.0</td>\n",
       "      <td>1.0</td>\n",
       "      <td>0.0</td>\n",
       "      <td>0.0</td>\n",
       "      <td>0.0</td>\n",
       "      <td>0.0</td>\n",
       "      <td>0.0</td>\n",
       "      <td>0.0</td>\n",
       "      <td>0.0</td>\n",
       "      <td>0.0</td>\n",
       "    </tr>\n",
       "    <tr>\n",
       "      <th>1</th>\n",
       "      <td>0.0</td>\n",
       "      <td>0.0</td>\n",
       "      <td>0.0</td>\n",
       "      <td>1.0</td>\n",
       "      <td>0.0</td>\n",
       "      <td>0.0</td>\n",
       "      <td>0.0</td>\n",
       "      <td>0.0</td>\n",
       "      <td>0.0</td>\n",
       "      <td>0.0</td>\n",
       "      <td>0.0</td>\n",
       "      <td>0.0</td>\n",
       "      <td>0.0</td>\n",
       "      <td>0.0</td>\n",
       "      <td>0.0</td>\n",
       "      <td>0.0</td>\n",
       "      <td>0.0</td>\n",
       "      <td>0.0</td>\n",
       "    </tr>\n",
       "    <tr>\n",
       "      <th>2</th>\n",
       "      <td>2.0</td>\n",
       "      <td>0.0</td>\n",
       "      <td>0.0</td>\n",
       "      <td>0.0</td>\n",
       "      <td>0.0</td>\n",
       "      <td>0.0</td>\n",
       "      <td>0.0</td>\n",
       "      <td>0.0</td>\n",
       "      <td>0.0</td>\n",
       "      <td>0.0</td>\n",
       "      <td>0.0</td>\n",
       "      <td>0.0</td>\n",
       "      <td>0.0</td>\n",
       "      <td>0.0</td>\n",
       "      <td>0.0</td>\n",
       "      <td>0.0</td>\n",
       "      <td>0.0</td>\n",
       "      <td>0.0</td>\n",
       "    </tr>\n",
       "    <tr>\n",
       "      <th>3</th>\n",
       "      <td>0.0</td>\n",
       "      <td>0.0</td>\n",
       "      <td>0.0</td>\n",
       "      <td>0.0</td>\n",
       "      <td>0.0</td>\n",
       "      <td>0.0</td>\n",
       "      <td>0.0</td>\n",
       "      <td>0.0</td>\n",
       "      <td>0.0</td>\n",
       "      <td>0.0</td>\n",
       "      <td>0.0</td>\n",
       "      <td>0.0</td>\n",
       "      <td>0.0</td>\n",
       "      <td>0.0</td>\n",
       "      <td>1.0</td>\n",
       "      <td>0.0</td>\n",
       "      <td>0.0</td>\n",
       "      <td>0.0</td>\n",
       "    </tr>\n",
       "    <tr>\n",
       "      <th>4</th>\n",
       "      <td>0.0</td>\n",
       "      <td>0.0</td>\n",
       "      <td>0.0</td>\n",
       "      <td>0.0</td>\n",
       "      <td>1.0</td>\n",
       "      <td>0.0</td>\n",
       "      <td>0.0</td>\n",
       "      <td>0.0</td>\n",
       "      <td>0.0</td>\n",
       "      <td>0.0</td>\n",
       "      <td>0.0</td>\n",
       "      <td>0.0</td>\n",
       "      <td>0.0</td>\n",
       "      <td>0.0</td>\n",
       "      <td>0.0</td>\n",
       "      <td>0.0</td>\n",
       "      <td>0.0</td>\n",
       "      <td>0.0</td>\n",
       "    </tr>\n",
       "  </tbody>\n",
       "</table>\n",
       "</div>"
      ],
      "text/plain": [
       "       A    C    D    E    F    G    I    K    L    N    P    Q    R    S  \\\n",
       "pos                                                                         \n",
       "0    0.0  0.0  0.0  0.0  0.0  0.0  0.0  0.0  0.0  1.0  0.0  0.0  0.0  0.0   \n",
       "1    0.0  0.0  0.0  1.0  0.0  0.0  0.0  0.0  0.0  0.0  0.0  0.0  0.0  0.0   \n",
       "2    2.0  0.0  0.0  0.0  0.0  0.0  0.0  0.0  0.0  0.0  0.0  0.0  0.0  0.0   \n",
       "3    0.0  0.0  0.0  0.0  0.0  0.0  0.0  0.0  0.0  0.0  0.0  0.0  0.0  0.0   \n",
       "4    0.0  0.0  0.0  0.0  1.0  0.0  0.0  0.0  0.0  0.0  0.0  0.0  0.0  0.0   \n",
       "\n",
       "       T    V    W    Y  \n",
       "pos                      \n",
       "0    0.0  0.0  0.0  0.0  \n",
       "1    0.0  0.0  0.0  0.0  \n",
       "2    0.0  0.0  0.0  0.0  \n",
       "3    1.0  0.0  0.0  0.0  \n",
       "4    0.0  0.0  0.0  0.0  "
      ]
     },
     "execution_count": 15,
     "metadata": {},
     "output_type": "execute_result"
    }
   ],
   "source": [
    "# create counts matrix\n",
    "ww_counts_df1 = lm.alignment_to_matrix(sequences=type1_type2_seqs1, to_type='counts', characters_to_ignore='.-X')\n",
    "\n",
    "# preview counts dataframe\n",
    "ww_counts_df1.head()"
   ]
  },
  {
   "cell_type": "code",
   "execution_count": 16,
   "id": "0f535185",
   "metadata": {},
   "outputs": [
    {
     "data": {
      "text/plain": [
       "<logomaker.src.Logo.Logo at 0x7fef817aa430>"
      ]
     },
     "execution_count": 16,
     "metadata": {},
     "output_type": "execute_result"
    },
    {
     "data": {
      "image/png": "[encoded data removed]",
      "text/plain": [
       "<Figure size 720x180 with 1 Axes>"
      ]
     },
     "metadata": {
      "needs_background": "light"
     },
     "output_type": "display_data"
    }
   ],
   "source": [
    "# view sequence logos \n",
    "lm.Logo(ww_counts_df1)\n",
    "\n",
    "# source link: https://github.com/jbkinney/logomaker/blob/master/logomaker/tutorials/2_logos_from_alignment.ipynb"
   ]
  },
  {
   "cell_type": "code",
   "execution_count": 17,
   "id": "fce97ee7",
   "metadata": {},
   "outputs": [
    {
     "name": "stdout",
     "output_type": "stream",
     "text": [
      "['---S--GICKTG--DC---------G----------GLLRCKRFGRP----PTTL-----AE-FSLNQYGKDY--------ID------IS---------', 'TEVSLEG---T-TLD-PTDYKVDTKGQTVTVTFTAEG-L--K---R-IKAAP---GKKVSA-VF---Q-GK--VTEARNGAI-TNRAQVISDTVYAEQPP']\n"
     ]
    }
   ],
   "source": [
    "type1_type2_seqs2 = [\"---S--GICKTG--DC---------G----------GLLRCKRFGRP----PTTL-----AE-FSLNQYGKDY--------ID------IS---------\",\n",
    "                     \"TEVSLEG---T-TLD-PTDYKVDTKGQTVTVTFTAEG-L--K---R-IKAAP---GKKVSA-VF---Q-GK--VTEARNGAI-TNRAQVISDTVYAEQPP\"]\n",
    "\n",
    "print(type1_type2_seqs2)"
   ]
  },
  {
   "cell_type": "code",
   "execution_count": 19,
   "id": "0de7b1e4",
   "metadata": {},
   "outputs": [
    {
     "data": {
      "text/html": [
       "<div>\n",
       "<style scoped>\n",
       "    .dataframe tbody tr th:only-of-type {\n",
       "        vertical-align: middle;\n",
       "    }\n",
       "\n",
       "    .dataframe tbody tr th {\n",
       "        vertical-align: top;\n",
       "    }\n",
       "\n",
       "    .dataframe thead th {\n",
       "        text-align: right;\n",
       "    }\n",
       "</style>\n",
       "<table border=\"1\" class=\"dataframe\">\n",
       "  <thead>\n",
       "    <tr style=\"text-align: right;\">\n",
       "      <th></th>\n",
       "      <th>A</th>\n",
       "      <th>C</th>\n",
       "      <th>D</th>\n",
       "      <th>E</th>\n",
       "      <th>F</th>\n",
       "      <th>G</th>\n",
       "      <th>I</th>\n",
       "      <th>K</th>\n",
       "      <th>L</th>\n",
       "      <th>N</th>\n",
       "      <th>P</th>\n",
       "      <th>Q</th>\n",
       "      <th>R</th>\n",
       "      <th>S</th>\n",
       "      <th>T</th>\n",
       "      <th>V</th>\n",
       "      <th>Y</th>\n",
       "    </tr>\n",
       "    <tr>\n",
       "      <th>pos</th>\n",
       "      <th></th>\n",
       "      <th></th>\n",
       "      <th></th>\n",
       "      <th></th>\n",
       "      <th></th>\n",
       "      <th></th>\n",
       "      <th></th>\n",
       "      <th></th>\n",
       "      <th></th>\n",
       "      <th></th>\n",
       "      <th></th>\n",
       "      <th></th>\n",
       "      <th></th>\n",
       "      <th></th>\n",
       "      <th></th>\n",
       "      <th></th>\n",
       "      <th></th>\n",
       "    </tr>\n",
       "  </thead>\n",
       "  <tbody>\n",
       "    <tr>\n",
       "      <th>0</th>\n",
       "      <td>0.0</td>\n",
       "      <td>0.0</td>\n",
       "      <td>0.0</td>\n",
       "      <td>0.0</td>\n",
       "      <td>0.0</td>\n",
       "      <td>0.0</td>\n",
       "      <td>0.0</td>\n",
       "      <td>0.0</td>\n",
       "      <td>0.0</td>\n",
       "      <td>0.0</td>\n",
       "      <td>0.0</td>\n",
       "      <td>0.0</td>\n",
       "      <td>0.0</td>\n",
       "      <td>0.0</td>\n",
       "      <td>1.0</td>\n",
       "      <td>0.0</td>\n",
       "      <td>0.0</td>\n",
       "    </tr>\n",
       "    <tr>\n",
       "      <th>1</th>\n",
       "      <td>0.0</td>\n",
       "      <td>0.0</td>\n",
       "      <td>0.0</td>\n",
       "      <td>1.0</td>\n",
       "      <td>0.0</td>\n",
       "      <td>0.0</td>\n",
       "      <td>0.0</td>\n",
       "      <td>0.0</td>\n",
       "      <td>0.0</td>\n",
       "      <td>0.0</td>\n",
       "      <td>0.0</td>\n",
       "      <td>0.0</td>\n",
       "      <td>0.0</td>\n",
       "      <td>0.0</td>\n",
       "      <td>0.0</td>\n",
       "      <td>0.0</td>\n",
       "      <td>0.0</td>\n",
       "    </tr>\n",
       "    <tr>\n",
       "      <th>2</th>\n",
       "      <td>0.0</td>\n",
       "      <td>0.0</td>\n",
       "      <td>0.0</td>\n",
       "      <td>0.0</td>\n",
       "      <td>0.0</td>\n",
       "      <td>0.0</td>\n",
       "      <td>0.0</td>\n",
       "      <td>0.0</td>\n",
       "      <td>0.0</td>\n",
       "      <td>0.0</td>\n",
       "      <td>0.0</td>\n",
       "      <td>0.0</td>\n",
       "      <td>0.0</td>\n",
       "      <td>0.0</td>\n",
       "      <td>0.0</td>\n",
       "      <td>1.0</td>\n",
       "      <td>0.0</td>\n",
       "    </tr>\n",
       "    <tr>\n",
       "      <th>3</th>\n",
       "      <td>0.0</td>\n",
       "      <td>0.0</td>\n",
       "      <td>0.0</td>\n",
       "      <td>0.0</td>\n",
       "      <td>0.0</td>\n",
       "      <td>0.0</td>\n",
       "      <td>0.0</td>\n",
       "      <td>0.0</td>\n",
       "      <td>0.0</td>\n",
       "      <td>0.0</td>\n",
       "      <td>0.0</td>\n",
       "      <td>0.0</td>\n",
       "      <td>0.0</td>\n",
       "      <td>2.0</td>\n",
       "      <td>0.0</td>\n",
       "      <td>0.0</td>\n",
       "      <td>0.0</td>\n",
       "    </tr>\n",
       "    <tr>\n",
       "      <th>4</th>\n",
       "      <td>0.0</td>\n",
       "      <td>0.0</td>\n",
       "      <td>0.0</td>\n",
       "      <td>0.0</td>\n",
       "      <td>0.0</td>\n",
       "      <td>0.0</td>\n",
       "      <td>0.0</td>\n",
       "      <td>0.0</td>\n",
       "      <td>1.0</td>\n",
       "      <td>0.0</td>\n",
       "      <td>0.0</td>\n",
       "      <td>0.0</td>\n",
       "      <td>0.0</td>\n",
       "      <td>0.0</td>\n",
       "      <td>0.0</td>\n",
       "      <td>0.0</td>\n",
       "      <td>0.0</td>\n",
       "    </tr>\n",
       "  </tbody>\n",
       "</table>\n",
       "</div>"
      ],
      "text/plain": [
       "       A    C    D    E    F    G    I    K    L    N    P    Q    R    S  \\\n",
       "pos                                                                         \n",
       "0    0.0  0.0  0.0  0.0  0.0  0.0  0.0  0.0  0.0  0.0  0.0  0.0  0.0  0.0   \n",
       "1    0.0  0.0  0.0  1.0  0.0  0.0  0.0  0.0  0.0  0.0  0.0  0.0  0.0  0.0   \n",
       "2    0.0  0.0  0.0  0.0  0.0  0.0  0.0  0.0  0.0  0.0  0.0  0.0  0.0  0.0   \n",
       "3    0.0  0.0  0.0  0.0  0.0  0.0  0.0  0.0  0.0  0.0  0.0  0.0  0.0  2.0   \n",
       "4    0.0  0.0  0.0  0.0  0.0  0.0  0.0  0.0  1.0  0.0  0.0  0.0  0.0  0.0   \n",
       "\n",
       "       T    V    Y  \n",
       "pos                 \n",
       "0    1.0  0.0  0.0  \n",
       "1    0.0  0.0  0.0  \n",
       "2    0.0  1.0  0.0  \n",
       "3    0.0  0.0  0.0  \n",
       "4    0.0  0.0  0.0  "
      ]
     },
     "execution_count": 19,
     "metadata": {},
     "output_type": "execute_result"
    }
   ],
   "source": [
    "# create counts matrix\n",
    "ww_counts_df2 = lm.alignment_to_matrix(sequences=type1_type2_seqs2, to_type='counts', characters_to_ignore='.-X')\n",
    "\n",
    "# preview counts dataframe\n",
    "ww_counts_df2.head()"
   ]
  },
  {
   "cell_type": "code",
   "execution_count": 20,
   "id": "a435f17e",
   "metadata": {},
   "outputs": [
    {
     "data": {
      "text/plain": [
       "<logomaker.src.Logo.Logo at 0x7fef82465580>"
      ]
     },
     "execution_count": 20,
     "metadata": {},
     "output_type": "execute_result"
    },
    {
     "data": {
      "image/png": "[encoded data removed]",
      "text/plain": [
       "<Figure size 720x180 with 1 Axes>"
      ]
     },
     "metadata": {
      "needs_background": "light"
     },
     "output_type": "display_data"
    }
   ],
   "source": [
    "# view sequence logos \n",
    "lm.Logo(ww_counts_df2)\n",
    "\n",
    "# source link: https://github.com/jbkinney/logomaker/blob/master/logomaker/tutorials/2_logos_from_alignment.ipynb"
   ]
  },
  {
   "cell_type": "code",
   "execution_count": 21,
   "id": "1b7a34e8",
   "metadata": {},
   "outputs": [
    {
     "name": "stdout",
     "output_type": "stream",
     "text": [
      "['-------NIKGF--NVPMDFSPT----TRGC-R-GVRCAAD--I--V-----GQCPAKL-KAPG--G-------------G-CN--D------AC----T', 'TPEEPPAN----PEN-P----PTSNEVT---SRWG-----DLLIKKVDNHQQGQ-----DKA-GLQGAQFQLYKAKNAYAGTC-TKDKEGDPIA-INGET']\n"
     ]
    }
   ],
   "source": [
    "type1_type2_seqs3=[\"-------NIKGF--NVPMDFSPT----TRGC-R-GVRCAAD--I--V-----GQCPAKL-KAPG--G-------------G-CN--D------AC----T\",\n",
    " \"TPEEPPAN----PEN-P----PTSNEVT---SRWG-----DLLIKKVDNHQQGQ-----DKA-GLQGAQFQLYKAKNAYAGTC-TKDKEGDPIA-INGET\"]\n",
    "\n",
    "print(type1_type2_seqs3)"
   ]
  },
  {
   "cell_type": "code",
   "execution_count": 22,
   "id": "64411c50",
   "metadata": {},
   "outputs": [
    {
     "data": {
      "text/html": [
       "<div>\n",
       "<style scoped>\n",
       "    .dataframe tbody tr th:only-of-type {\n",
       "        vertical-align: middle;\n",
       "    }\n",
       "\n",
       "    .dataframe tbody tr th {\n",
       "        vertical-align: top;\n",
       "    }\n",
       "\n",
       "    .dataframe thead th {\n",
       "        text-align: right;\n",
       "    }\n",
       "</style>\n",
       "<table border=\"1\" class=\"dataframe\">\n",
       "  <thead>\n",
       "    <tr style=\"text-align: right;\">\n",
       "      <th></th>\n",
       "      <th>A</th>\n",
       "      <th>C</th>\n",
       "      <th>D</th>\n",
       "      <th>E</th>\n",
       "      <th>F</th>\n",
       "      <th>G</th>\n",
       "      <th>H</th>\n",
       "      <th>I</th>\n",
       "      <th>K</th>\n",
       "      <th>L</th>\n",
       "      <th>M</th>\n",
       "      <th>N</th>\n",
       "      <th>P</th>\n",
       "      <th>Q</th>\n",
       "      <th>R</th>\n",
       "      <th>S</th>\n",
       "      <th>T</th>\n",
       "      <th>V</th>\n",
       "      <th>W</th>\n",
       "      <th>Y</th>\n",
       "    </tr>\n",
       "    <tr>\n",
       "      <th>pos</th>\n",
       "      <th></th>\n",
       "      <th></th>\n",
       "      <th></th>\n",
       "      <th></th>\n",
       "      <th></th>\n",
       "      <th></th>\n",
       "      <th></th>\n",
       "      <th></th>\n",
       "      <th></th>\n",
       "      <th></th>\n",
       "      <th></th>\n",
       "      <th></th>\n",
       "      <th></th>\n",
       "      <th></th>\n",
       "      <th></th>\n",
       "      <th></th>\n",
       "      <th></th>\n",
       "      <th></th>\n",
       "      <th></th>\n",
       "      <th></th>\n",
       "    </tr>\n",
       "  </thead>\n",
       "  <tbody>\n",
       "    <tr>\n",
       "      <th>0</th>\n",
       "      <td>0.0</td>\n",
       "      <td>0.0</td>\n",
       "      <td>0.0</td>\n",
       "      <td>0.0</td>\n",
       "      <td>0.0</td>\n",
       "      <td>0.0</td>\n",
       "      <td>0.0</td>\n",
       "      <td>0.0</td>\n",
       "      <td>0.0</td>\n",
       "      <td>0.0</td>\n",
       "      <td>0.0</td>\n",
       "      <td>0.0</td>\n",
       "      <td>0.0</td>\n",
       "      <td>0.0</td>\n",
       "      <td>0.0</td>\n",
       "      <td>0.0</td>\n",
       "      <td>1.0</td>\n",
       "      <td>0.0</td>\n",
       "      <td>0.0</td>\n",
       "      <td>0.0</td>\n",
       "    </tr>\n",
       "    <tr>\n",
       "      <th>1</th>\n",
       "      <td>0.0</td>\n",
       "      <td>0.0</td>\n",
       "      <td>0.0</td>\n",
       "      <td>0.0</td>\n",
       "      <td>0.0</td>\n",
       "      <td>0.0</td>\n",
       "      <td>0.0</td>\n",
       "      <td>0.0</td>\n",
       "      <td>0.0</td>\n",
       "      <td>0.0</td>\n",
       "      <td>0.0</td>\n",
       "      <td>0.0</td>\n",
       "      <td>1.0</td>\n",
       "      <td>0.0</td>\n",
       "      <td>0.0</td>\n",
       "      <td>0.0</td>\n",
       "      <td>0.0</td>\n",
       "      <td>0.0</td>\n",
       "      <td>0.0</td>\n",
       "      <td>0.0</td>\n",
       "    </tr>\n",
       "    <tr>\n",
       "      <th>2</th>\n",
       "      <td>0.0</td>\n",
       "      <td>0.0</td>\n",
       "      <td>0.0</td>\n",
       "      <td>1.0</td>\n",
       "      <td>0.0</td>\n",
       "      <td>0.0</td>\n",
       "      <td>0.0</td>\n",
       "      <td>0.0</td>\n",
       "      <td>0.0</td>\n",
       "      <td>0.0</td>\n",
       "      <td>0.0</td>\n",
       "      <td>0.0</td>\n",
       "      <td>0.0</td>\n",
       "      <td>0.0</td>\n",
       "      <td>0.0</td>\n",
       "      <td>0.0</td>\n",
       "      <td>0.0</td>\n",
       "      <td>0.0</td>\n",
       "      <td>0.0</td>\n",
       "      <td>0.0</td>\n",
       "    </tr>\n",
       "    <tr>\n",
       "      <th>3</th>\n",
       "      <td>0.0</td>\n",
       "      <td>0.0</td>\n",
       "      <td>0.0</td>\n",
       "      <td>1.0</td>\n",
       "      <td>0.0</td>\n",
       "      <td>0.0</td>\n",
       "      <td>0.0</td>\n",
       "      <td>0.0</td>\n",
       "      <td>0.0</td>\n",
       "      <td>0.0</td>\n",
       "      <td>0.0</td>\n",
       "      <td>0.0</td>\n",
       "      <td>0.0</td>\n",
       "      <td>0.0</td>\n",
       "      <td>0.0</td>\n",
       "      <td>0.0</td>\n",
       "      <td>0.0</td>\n",
       "      <td>0.0</td>\n",
       "      <td>0.0</td>\n",
       "      <td>0.0</td>\n",
       "    </tr>\n",
       "    <tr>\n",
       "      <th>4</th>\n",
       "      <td>0.0</td>\n",
       "      <td>0.0</td>\n",
       "      <td>0.0</td>\n",
       "      <td>0.0</td>\n",
       "      <td>0.0</td>\n",
       "      <td>0.0</td>\n",
       "      <td>0.0</td>\n",
       "      <td>0.0</td>\n",
       "      <td>0.0</td>\n",
       "      <td>0.0</td>\n",
       "      <td>0.0</td>\n",
       "      <td>0.0</td>\n",
       "      <td>1.0</td>\n",
       "      <td>0.0</td>\n",
       "      <td>0.0</td>\n",
       "      <td>0.0</td>\n",
       "      <td>0.0</td>\n",
       "      <td>0.0</td>\n",
       "      <td>0.0</td>\n",
       "      <td>0.0</td>\n",
       "    </tr>\n",
       "  </tbody>\n",
       "</table>\n",
       "</div>"
      ],
      "text/plain": [
       "       A    C    D    E    F    G    H    I    K    L    M    N    P    Q  \\\n",
       "pos                                                                         \n",
       "0    0.0  0.0  0.0  0.0  0.0  0.0  0.0  0.0  0.0  0.0  0.0  0.0  0.0  0.0   \n",
       "1    0.0  0.0  0.0  0.0  0.0  0.0  0.0  0.0  0.0  0.0  0.0  0.0  1.0  0.0   \n",
       "2    0.0  0.0  0.0  1.0  0.0  0.0  0.0  0.0  0.0  0.0  0.0  0.0  0.0  0.0   \n",
       "3    0.0  0.0  0.0  1.0  0.0  0.0  0.0  0.0  0.0  0.0  0.0  0.0  0.0  0.0   \n",
       "4    0.0  0.0  0.0  0.0  0.0  0.0  0.0  0.0  0.0  0.0  0.0  0.0  1.0  0.0   \n",
       "\n",
       "       R    S    T    V    W    Y  \n",
       "pos                                \n",
       "0    0.0  0.0  1.0  0.0  0.0  0.0  \n",
       "1    0.0  0.0  0.0  0.0  0.0  0.0  \n",
       "2    0.0  0.0  0.0  0.0  0.0  0.0  \n",
       "3    0.0  0.0  0.0  0.0  0.0  0.0  \n",
       "4    0.0  0.0  0.0  0.0  0.0  0.0  "
      ]
     },
     "execution_count": 22,
     "metadata": {},
     "output_type": "execute_result"
    }
   ],
   "source": [
    "# create counts matrix\n",
    "ww_counts_df3 = lm.alignment_to_matrix(sequences=type1_type2_seqs3, to_type='counts', characters_to_ignore='.-X')\n",
    "\n",
    "# preview counts dataframe\n",
    "ww_counts_df3.head()"
   ]
  },
  {
   "cell_type": "code",
   "execution_count": 23,
   "id": "e657dd98",
   "metadata": {},
   "outputs": [
    {
     "data": {
      "text/plain": [
       "<logomaker.src.Logo.Logo at 0x7fef827dc880>"
      ]
     },
     "execution_count": 23,
     "metadata": {},
     "output_type": "execute_result"
    },
    {
     "data": {
      "image/png": "[encoded data removed]",
      "text/plain": [
       "<Figure size 720x180 with 1 Axes>"
      ]
     },
     "metadata": {
      "needs_background": "light"
     },
     "output_type": "display_data"
    }
   ],
   "source": [
    "# view sequence logos \n",
    "lm.Logo(ww_counts_df3)\n",
    "\n",
    "# source link: https://github.com/jbkinney/logomaker/blob/master/logomaker/tutorials/2_logos_from_alignment.ipynb"
   ]
  },
  {
   "cell_type": "code",
   "execution_count": 24,
   "id": "019accbb",
   "metadata": {},
   "outputs": [
    {
     "name": "stdout",
     "output_type": "stream",
     "text": [
      "['VFQTSEYCC-TT---G----KCGPTEY---S-------RFF---K----RLC--------PDAFS-YVLDKPTT-----VTCP-----GSS-----NYRV', '---T-----LTTDAQGAINVK-G----LFISDSIDGANR--DNQKDATAR-CYVLVETKAP-A--GYVL--P--AGDGAVT-PVKIEVG--AVTTDN--V']\n"
     ]
    }
   ],
   "source": [
    "type1_type2_seqs4 = [\"VFQTSEYCC-TT---G----KCGPTEY---S-------RFF---K----RLC--------PDAFS-YVLDKPTT-----VTCP-----GSS-----NYRV\",\n",
    "                     \"---T-----LTTDAQGAINVK-G----LFISDSIDGANR--DNQKDATAR-CYVLVETKAP-A--GYVL--P--AGDGAVT-PVKIEVG--AVTTDN--V\"]\n",
    "\n",
    "print(type1_type2_seqs4)"
   ]
  },
  {
   "cell_type": "code",
   "execution_count": 25,
   "id": "aa498f12",
   "metadata": {},
   "outputs": [
    {
     "data": {
      "text/html": [
       "<div>\n",
       "<style scoped>\n",
       "    .dataframe tbody tr th:only-of-type {\n",
       "        vertical-align: middle;\n",
       "    }\n",
       "\n",
       "    .dataframe tbody tr th {\n",
       "        vertical-align: top;\n",
       "    }\n",
       "\n",
       "    .dataframe thead th {\n",
       "        text-align: right;\n",
       "    }\n",
       "</style>\n",
       "<table border=\"1\" class=\"dataframe\">\n",
       "  <thead>\n",
       "    <tr style=\"text-align: right;\">\n",
       "      <th></th>\n",
       "      <th>A</th>\n",
       "      <th>C</th>\n",
       "      <th>D</th>\n",
       "      <th>E</th>\n",
       "      <th>F</th>\n",
       "      <th>G</th>\n",
       "      <th>I</th>\n",
       "      <th>K</th>\n",
       "      <th>L</th>\n",
       "      <th>N</th>\n",
       "      <th>P</th>\n",
       "      <th>Q</th>\n",
       "      <th>R</th>\n",
       "      <th>S</th>\n",
       "      <th>T</th>\n",
       "      <th>V</th>\n",
       "      <th>Y</th>\n",
       "    </tr>\n",
       "    <tr>\n",
       "      <th>pos</th>\n",
       "      <th></th>\n",
       "      <th></th>\n",
       "      <th></th>\n",
       "      <th></th>\n",
       "      <th></th>\n",
       "      <th></th>\n",
       "      <th></th>\n",
       "      <th></th>\n",
       "      <th></th>\n",
       "      <th></th>\n",
       "      <th></th>\n",
       "      <th></th>\n",
       "      <th></th>\n",
       "      <th></th>\n",
       "      <th></th>\n",
       "      <th></th>\n",
       "      <th></th>\n",
       "    </tr>\n",
       "  </thead>\n",
       "  <tbody>\n",
       "    <tr>\n",
       "      <th>0</th>\n",
       "      <td>0.0</td>\n",
       "      <td>0.0</td>\n",
       "      <td>0.0</td>\n",
       "      <td>0.0</td>\n",
       "      <td>0.0</td>\n",
       "      <td>0.0</td>\n",
       "      <td>0.0</td>\n",
       "      <td>0.0</td>\n",
       "      <td>0.0</td>\n",
       "      <td>0.0</td>\n",
       "      <td>0.0</td>\n",
       "      <td>0.0</td>\n",
       "      <td>0.0</td>\n",
       "      <td>0.0</td>\n",
       "      <td>0.0</td>\n",
       "      <td>1.0</td>\n",
       "      <td>0.0</td>\n",
       "    </tr>\n",
       "    <tr>\n",
       "      <th>1</th>\n",
       "      <td>0.0</td>\n",
       "      <td>0.0</td>\n",
       "      <td>0.0</td>\n",
       "      <td>0.0</td>\n",
       "      <td>1.0</td>\n",
       "      <td>0.0</td>\n",
       "      <td>0.0</td>\n",
       "      <td>0.0</td>\n",
       "      <td>0.0</td>\n",
       "      <td>0.0</td>\n",
       "      <td>0.0</td>\n",
       "      <td>0.0</td>\n",
       "      <td>0.0</td>\n",
       "      <td>0.0</td>\n",
       "      <td>0.0</td>\n",
       "      <td>0.0</td>\n",
       "      <td>0.0</td>\n",
       "    </tr>\n",
       "    <tr>\n",
       "      <th>2</th>\n",
       "      <td>0.0</td>\n",
       "      <td>0.0</td>\n",
       "      <td>0.0</td>\n",
       "      <td>0.0</td>\n",
       "      <td>0.0</td>\n",
       "      <td>0.0</td>\n",
       "      <td>0.0</td>\n",
       "      <td>0.0</td>\n",
       "      <td>0.0</td>\n",
       "      <td>0.0</td>\n",
       "      <td>0.0</td>\n",
       "      <td>1.0</td>\n",
       "      <td>0.0</td>\n",
       "      <td>0.0</td>\n",
       "      <td>0.0</td>\n",
       "      <td>0.0</td>\n",
       "      <td>0.0</td>\n",
       "    </tr>\n",
       "    <tr>\n",
       "      <th>3</th>\n",
       "      <td>0.0</td>\n",
       "      <td>0.0</td>\n",
       "      <td>0.0</td>\n",
       "      <td>0.0</td>\n",
       "      <td>0.0</td>\n",
       "      <td>0.0</td>\n",
       "      <td>0.0</td>\n",
       "      <td>0.0</td>\n",
       "      <td>0.0</td>\n",
       "      <td>0.0</td>\n",
       "      <td>0.0</td>\n",
       "      <td>0.0</td>\n",
       "      <td>0.0</td>\n",
       "      <td>0.0</td>\n",
       "      <td>2.0</td>\n",
       "      <td>0.0</td>\n",
       "      <td>0.0</td>\n",
       "    </tr>\n",
       "    <tr>\n",
       "      <th>4</th>\n",
       "      <td>0.0</td>\n",
       "      <td>0.0</td>\n",
       "      <td>0.0</td>\n",
       "      <td>0.0</td>\n",
       "      <td>0.0</td>\n",
       "      <td>0.0</td>\n",
       "      <td>0.0</td>\n",
       "      <td>0.0</td>\n",
       "      <td>0.0</td>\n",
       "      <td>0.0</td>\n",
       "      <td>0.0</td>\n",
       "      <td>0.0</td>\n",
       "      <td>0.0</td>\n",
       "      <td>1.0</td>\n",
       "      <td>0.0</td>\n",
       "      <td>0.0</td>\n",
       "      <td>0.0</td>\n",
       "    </tr>\n",
       "  </tbody>\n",
       "</table>\n",
       "</div>"
      ],
      "text/plain": [
       "       A    C    D    E    F    G    I    K    L    N    P    Q    R    S  \\\n",
       "pos                                                                         \n",
       "0    0.0  0.0  0.0  0.0  0.0  0.0  0.0  0.0  0.0  0.0  0.0  0.0  0.0  0.0   \n",
       "1    0.0  0.0  0.0  0.0  1.0  0.0  0.0  0.0  0.0  0.0  0.0  0.0  0.0  0.0   \n",
       "2    0.0  0.0  0.0  0.0  0.0  0.0  0.0  0.0  0.0  0.0  0.0  1.0  0.0  0.0   \n",
       "3    0.0  0.0  0.0  0.0  0.0  0.0  0.0  0.0  0.0  0.0  0.0  0.0  0.0  0.0   \n",
       "4    0.0  0.0  0.0  0.0  0.0  0.0  0.0  0.0  0.0  0.0  0.0  0.0  0.0  1.0   \n",
       "\n",
       "       T    V    Y  \n",
       "pos                 \n",
       "0    0.0  1.0  0.0  \n",
       "1    0.0  0.0  0.0  \n",
       "2    0.0  0.0  0.0  \n",
       "3    2.0  0.0  0.0  \n",
       "4    0.0  0.0  0.0  "
      ]
     },
     "execution_count": 25,
     "metadata": {},
     "output_type": "execute_result"
    }
   ],
   "source": [
    "# create counts matrix\n",
    "ww_counts_df4 = lm.alignment_to_matrix(sequences=type1_type2_seqs4, to_type='counts', characters_to_ignore='.-X')\n",
    "\n",
    "# preview counts dataframe\n",
    "ww_counts_df4.head()"
   ]
  },
  {
   "cell_type": "code",
   "execution_count": 26,
   "id": "05f8fb29",
   "metadata": {},
   "outputs": [
    {
     "data": {
      "text/plain": [
       "<logomaker.src.Logo.Logo at 0x7fef82c0fc10>"
      ]
     },
     "execution_count": 26,
     "metadata": {},
     "output_type": "execute_result"
    },
    {
     "data": {
      "image/png": "[encoded data removed]",
      "text/plain": [
       "<Figure size 720x180 with 1 Axes>"
      ]
     },
     "metadata": {
      "needs_background": "light"
     },
     "output_type": "display_data"
    }
   ],
   "source": [
    "# view sequence logos \n",
    "lm.Logo(ww_counts_df4)\n",
    "\n",
    "# source link: https://github.com/jbkinney/logomaker/blob/master/logomaker/tutorials/2_logos_from_alignment.ipynb"
   ]
  },
  {
   "cell_type": "code",
   "execution_count": 27,
   "id": "5b7e63d8",
   "metadata": {},
   "outputs": [
    {
     "name": "stdout",
     "output_type": "stream",
     "text": [
      "['TFCP---TA--', 'T---IENT-KQ']\n"
     ]
    }
   ],
   "source": [
    "type1_type2_seqs5 = [\"TFCP---TA--\",\"T---IENT-KQ\"]\n",
    "\n",
    "print(type1_type2_seqs5)"
   ]
  },
  {
   "cell_type": "code",
   "execution_count": 28,
   "id": "edfff173",
   "metadata": {},
   "outputs": [
    {
     "data": {
      "text/html": [
       "<div>\n",
       "<style scoped>\n",
       "    .dataframe tbody tr th:only-of-type {\n",
       "        vertical-align: middle;\n",
       "    }\n",
       "\n",
       "    .dataframe tbody tr th {\n",
       "        vertical-align: top;\n",
       "    }\n",
       "\n",
       "    .dataframe thead th {\n",
       "        text-align: right;\n",
       "    }\n",
       "</style>\n",
       "<table border=\"1\" class=\"dataframe\">\n",
       "  <thead>\n",
       "    <tr style=\"text-align: right;\">\n",
       "      <th></th>\n",
       "      <th>A</th>\n",
       "      <th>C</th>\n",
       "      <th>E</th>\n",
       "      <th>F</th>\n",
       "      <th>I</th>\n",
       "      <th>K</th>\n",
       "      <th>N</th>\n",
       "      <th>P</th>\n",
       "      <th>Q</th>\n",
       "      <th>T</th>\n",
       "    </tr>\n",
       "    <tr>\n",
       "      <th>pos</th>\n",
       "      <th></th>\n",
       "      <th></th>\n",
       "      <th></th>\n",
       "      <th></th>\n",
       "      <th></th>\n",
       "      <th></th>\n",
       "      <th></th>\n",
       "      <th></th>\n",
       "      <th></th>\n",
       "      <th></th>\n",
       "    </tr>\n",
       "  </thead>\n",
       "  <tbody>\n",
       "    <tr>\n",
       "      <th>0</th>\n",
       "      <td>0.0</td>\n",
       "      <td>0.0</td>\n",
       "      <td>0.0</td>\n",
       "      <td>0.0</td>\n",
       "      <td>0.0</td>\n",
       "      <td>0.0</td>\n",
       "      <td>0.0</td>\n",
       "      <td>0.0</td>\n",
       "      <td>0.0</td>\n",
       "      <td>2.0</td>\n",
       "    </tr>\n",
       "    <tr>\n",
       "      <th>1</th>\n",
       "      <td>0.0</td>\n",
       "      <td>0.0</td>\n",
       "      <td>0.0</td>\n",
       "      <td>1.0</td>\n",
       "      <td>0.0</td>\n",
       "      <td>0.0</td>\n",
       "      <td>0.0</td>\n",
       "      <td>0.0</td>\n",
       "      <td>0.0</td>\n",
       "      <td>0.0</td>\n",
       "    </tr>\n",
       "    <tr>\n",
       "      <th>2</th>\n",
       "      <td>0.0</td>\n",
       "      <td>1.0</td>\n",
       "      <td>0.0</td>\n",
       "      <td>0.0</td>\n",
       "      <td>0.0</td>\n",
       "      <td>0.0</td>\n",
       "      <td>0.0</td>\n",
       "      <td>0.0</td>\n",
       "      <td>0.0</td>\n",
       "      <td>0.0</td>\n",
       "    </tr>\n",
       "    <tr>\n",
       "      <th>3</th>\n",
       "      <td>0.0</td>\n",
       "      <td>0.0</td>\n",
       "      <td>0.0</td>\n",
       "      <td>0.0</td>\n",
       "      <td>0.0</td>\n",
       "      <td>0.0</td>\n",
       "      <td>0.0</td>\n",
       "      <td>1.0</td>\n",
       "      <td>0.0</td>\n",
       "      <td>0.0</td>\n",
       "    </tr>\n",
       "    <tr>\n",
       "      <th>4</th>\n",
       "      <td>0.0</td>\n",
       "      <td>0.0</td>\n",
       "      <td>0.0</td>\n",
       "      <td>0.0</td>\n",
       "      <td>1.0</td>\n",
       "      <td>0.0</td>\n",
       "      <td>0.0</td>\n",
       "      <td>0.0</td>\n",
       "      <td>0.0</td>\n",
       "      <td>0.0</td>\n",
       "    </tr>\n",
       "  </tbody>\n",
       "</table>\n",
       "</div>"
      ],
      "text/plain": [
       "       A    C    E    F    I    K    N    P    Q    T\n",
       "pos                                                  \n",
       "0    0.0  0.0  0.0  0.0  0.0  0.0  0.0  0.0  0.0  2.0\n",
       "1    0.0  0.0  0.0  1.0  0.0  0.0  0.0  0.0  0.0  0.0\n",
       "2    0.0  1.0  0.0  0.0  0.0  0.0  0.0  0.0  0.0  0.0\n",
       "3    0.0  0.0  0.0  0.0  0.0  0.0  0.0  1.0  0.0  0.0\n",
       "4    0.0  0.0  0.0  0.0  1.0  0.0  0.0  0.0  0.0  0.0"
      ]
     },
     "execution_count": 28,
     "metadata": {},
     "output_type": "execute_result"
    }
   ],
   "source": [
    "# create counts matrix\n",
    "ww_counts_df5 = lm.alignment_to_matrix(sequences=type1_type2_seqs5, to_type='counts', characters_to_ignore='.-X')\n",
    "\n",
    "# preview counts dataframe\n",
    "ww_counts_df5.head()"
   ]
  },
  {
   "cell_type": "code",
   "execution_count": 29,
   "id": "f6a0b019",
   "metadata": {},
   "outputs": [
    {
     "data": {
      "text/plain": [
       "<logomaker.src.Logo.Logo at 0x7fef82aebfd0>"
      ]
     },
     "execution_count": 29,
     "metadata": {},
     "output_type": "execute_result"
    },
    {
     "data": {
      "image/png": "[encoded data removed]",
      "text/plain": [
       "<Figure size 720x180 with 1 Axes>"
      ]
     },
     "metadata": {
      "needs_background": "light"
     },
     "output_type": "display_data"
    }
   ],
   "source": [
    "# view sequence logos \n",
    "lm.Logo(ww_counts_df5)\n",
    "\n",
    "# source link: https://github.com/jbkinney/logomaker/blob/master/logomaker/tutorials/2_logos_from_alignment.ipynb"
   ]
  },
  {
   "cell_type": "markdown",
   "id": "4df6b840",
   "metadata": {},
   "source": [
    "# Analyzing the results "
   ]
  },
  {
   "cell_type": "markdown",
   "id": "3a1d20a9",
   "metadata": {},
   "source": [
    "Rthia dentocariosa adheres more often to SARS-CoV-2 than other Rothia bacterias. Rothia dentocairsa has type 2 fimbriae and Rothia mucilaginosa and Rothia aeria have type 1 fimbriae. Although All three Rothia bacteria have a lot of functions in common such as residing in lungs and oral, Rothia dentocariosa sick to the SARS-CoV-2 more often than other two Rothia bacterias. \n",
    "\n",
    "Results of pairwise sequence alignment shows only 20% of the amino acids are conserved. In other words, 80% are non-conserved. It is expected to have less sequences in common since Rothia dentocariosa appears to have a unique behavior than other two Rotia bacteria that have different types of fimbriae, specifically type1 fimbriae. Additionally, the alignment score turned out 86 which means 86 amino acids are matched out of 411 amino acids when two sequences are aligned. Throughout method 1, I confirmed two types of fimbriae represent a high percentage of different protein sequence contents. \n",
    "\n",
    "My second method is 3D protein structural analysis. Type1 protein structure shows smaller in size compared to type 2 fimbriae protein. I’d assume that due to this bigger size fimbriae protein, it may allow Rothia dentocariosa to adhere more often to SARS-CoV-2 than other Rothia bacteria. \n",
    "\n",
    "For the analysis method, I chose sequence logos. I wanted to visualize better how much similar the amino acid sequences are between two types. It shows more areas that are not matched then areas that are matched. For example, the last eleven amino acids in sequence logos data, shown in the last chunk of the analysis method, show only two matched amino acids out of eleven amino acids. 2 out of 11 amino acids matches are about 18% of matching amino acids between two types of fimbriae. \n",
    "\n",
    "Throughout the project2, I confirmed type 1 and type 2 fimbriae have much higher percentage of non-matched sequences. Thus, having a different outer structural fimbriae protein may have been associated when Rothia dentocariosa, which has type2 fimbriae, adhere more often to SARS-CoV-2 when other rothia bacteria appears not stick to SARS-CoV-2 viral particle as much as rothia dentocariosa binds. \n"
   ]
  },
  {
   "cell_type": "code",
   "execution_count": null,
   "id": "4eee7b8c",
   "metadata": {},
   "outputs": [],
   "source": []
  }
 ],
 "metadata": {
  "kernelspec": {
   "display_name": "Python 3 (ipykernel)",
   "language": "python",
   "name": "python3"
  },
  "language_info": {
   "codemirror_mode": {
    "name": "ipython",
    "version": 3
   },
   "file_extension": ".py",
   "mimetype": "text/x-python",
   "name": "python",
   "nbconvert_exporter": "python",
   "pygments_lexer": "ipython3",
   "version": "3.9.7"
  }
 },
 "nbformat": 4,
 "nbformat_minor": 5
}
